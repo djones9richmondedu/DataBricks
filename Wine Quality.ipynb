{
 "cells": [
  {
   "cell_type": "markdown",
   "metadata": {
    "application/vnd.databricks.v1+cell": {
     "cellMetadata": {},
     "inputWidgets": {},
     "nuid": "f85e3af2-aba9-4428-8e8a-1b3ad39c95f2",
     "showTitle": false,
     "tableResultSettingsMap": {},
     "title": ""
    }
   },
   "source": [
    "#Build your first machine learning model on Databricks"
   ]
  },
  {
   "cell_type": "code",
   "execution_count": 0,
   "metadata": {
    "application/vnd.databricks.v1+cell": {
     "cellMetadata": {
      "byteLimit": 2048000,
      "rowLimit": 10000
     },
     "inputWidgets": {},
     "nuid": "035aac98-5558-4cc0-a43f-3bbfd25117a1",
     "showTitle": false,
     "tableResultSettingsMap": {},
     "title": ""
    }
   },
   "outputs": [
    {
     "output_type": "stream",
     "name": "stdout",
     "output_type": "stream",
     "text": [
      "Requirement already satisfied: mlflow in /local_disk0/.ephemeral_nfs/envs/pythonEnv-92050934-baa6-4c29-a7c1-cd1aecfb2695/lib/python3.11/site-packages (2.22.1)\nRequirement already satisfied: hyperopt in /local_disk0/.ephemeral_nfs/envs/pythonEnv-92050934-baa6-4c29-a7c1-cd1aecfb2695/lib/python3.11/site-packages (0.2.7)\nRequirement already satisfied: xgboost in /local_disk0/.ephemeral_nfs/envs/pythonEnv-92050934-baa6-4c29-a7c1-cd1aecfb2695/lib/python3.11/site-packages (3.0.2)\nRequirement already satisfied: mlflow-skinny==2.22.1 in /local_disk0/.ephemeral_nfs/envs/pythonEnv-92050934-baa6-4c29-a7c1-cd1aecfb2695/lib/python3.11/site-packages (from mlflow) (2.22.1)\nRequirement already satisfied: Flask<4 in /local_disk0/.ephemeral_nfs/envs/pythonEnv-92050934-baa6-4c29-a7c1-cd1aecfb2695/lib/python3.11/site-packages (from mlflow) (3.1.1)\nRequirement already satisfied: Jinja2<4,>=2.11 in /local_disk0/.ephemeral_nfs/envs/pythonEnv-92050934-baa6-4c29-a7c1-cd1aecfb2695/lib/python3.11/site-packages (from mlflow) (3.1.6)\nRequirement already satisfied: alembic!=1.10.0,<2 in /local_disk0/.ephemeral_nfs/envs/pythonEnv-92050934-baa6-4c29-a7c1-cd1aecfb2695/lib/python3.11/site-packages (from mlflow) (1.16.1)\nRequirement already satisfied: docker<8,>=4.0.0 in /local_disk0/.ephemeral_nfs/envs/pythonEnv-92050934-baa6-4c29-a7c1-cd1aecfb2695/lib/python3.11/site-packages (from mlflow) (7.1.0)\nRequirement already satisfied: graphene<4 in /local_disk0/.ephemeral_nfs/envs/pythonEnv-92050934-baa6-4c29-a7c1-cd1aecfb2695/lib/python3.11/site-packages (from mlflow) (3.4.3)\nRequirement already satisfied: gunicorn<24 in /local_disk0/.ephemeral_nfs/envs/pythonEnv-92050934-baa6-4c29-a7c1-cd1aecfb2695/lib/python3.11/site-packages (from mlflow) (23.0.0)\nRequirement already satisfied: markdown<4,>=3.3 in /local_disk0/.ephemeral_nfs/envs/pythonEnv-92050934-baa6-4c29-a7c1-cd1aecfb2695/lib/python3.11/site-packages (from mlflow) (3.8)\nRequirement already satisfied: matplotlib<4 in /databricks/python3/lib/python3.11/site-packages (from mlflow) (3.7.2)\nRequirement already satisfied: numpy<3 in /databricks/python3/lib/python3.11/site-packages (from mlflow) (1.23.5)\nRequirement already satisfied: pandas!=2.3.0,<3 in /databricks/python3/lib/python3.11/site-packages (from mlflow) (1.5.3)\nRequirement already satisfied: pyarrow<20,>=4.0.0 in /databricks/python3/lib/python3.11/site-packages (from mlflow) (14.0.1)\nRequirement already satisfied: scikit-learn<2 in /databricks/python3/lib/python3.11/site-packages (from mlflow) (1.3.0)\nRequirement already satisfied: scipy<2 in /databricks/python3/lib/python3.11/site-packages (from mlflow) (1.11.1)\nRequirement already satisfied: sqlalchemy<3,>=1.4.0 in /local_disk0/.ephemeral_nfs/envs/pythonEnv-92050934-baa6-4c29-a7c1-cd1aecfb2695/lib/python3.11/site-packages (from mlflow) (2.0.41)\nRequirement already satisfied: cachetools<6,>=5.0.0 in /databricks/python3/lib/python3.11/site-packages (from mlflow-skinny==2.22.1->mlflow) (5.5.0)\nRequirement already satisfied: click<9,>=7.0 in /local_disk0/.ephemeral_nfs/envs/pythonEnv-92050934-baa6-4c29-a7c1-cd1aecfb2695/lib/python3.11/site-packages (from mlflow-skinny==2.22.1->mlflow) (8.2.1)\nRequirement already satisfied: cloudpickle<4 in /databricks/python3/lib/python3.11/site-packages (from mlflow-skinny==2.22.1->mlflow) (3.0.0)\nRequirement already satisfied: databricks-sdk<1,>=0.20.0 in /databricks/python3/lib/python3.11/site-packages (from mlflow-skinny==2.22.1->mlflow) (0.40.0)\nRequirement already satisfied: fastapi<1 in /local_disk0/.ephemeral_nfs/envs/pythonEnv-92050934-baa6-4c29-a7c1-cd1aecfb2695/lib/python3.11/site-packages (from mlflow-skinny==2.22.1->mlflow) (0.115.12)\nRequirement already satisfied: gitpython<4,>=3.1.9 in /databricks/python3/lib/python3.11/site-packages (from mlflow-skinny==2.22.1->mlflow) (3.1.43)\nRequirement already satisfied: importlib_metadata!=4.7.0,<9,>=3.7.0 in /databricks/python3/lib/python3.11/site-packages (from mlflow-skinny==2.22.1->mlflow) (6.0.0)\nRequirement already satisfied: opentelemetry-api<3,>=1.9.0 in /local_disk0/.ephemeral_nfs/envs/pythonEnv-92050934-baa6-4c29-a7c1-cd1aecfb2695/lib/python3.11/site-packages (from mlflow-skinny==2.22.1->mlflow) (1.34.0)\nRequirement already satisfied: opentelemetry-sdk<3,>=1.9.0 in /local_disk0/.ephemeral_nfs/envs/pythonEnv-92050934-baa6-4c29-a7c1-cd1aecfb2695/lib/python3.11/site-packages (from mlflow-skinny==2.22.1->mlflow) (1.34.0)\nRequirement already satisfied: packaging<25 in /databricks/python3/lib/python3.11/site-packages (from mlflow-skinny==2.22.1->mlflow) (23.2)\nRequirement already satisfied: protobuf<7,>=3.12.0 in /databricks/python3/lib/python3.11/site-packages (from mlflow-skinny==2.22.1->mlflow) (5.29.3)\nRequirement already satisfied: pydantic<3,>=1.10.8 in /local_disk0/.ephemeral_nfs/envs/pythonEnv-92050934-baa6-4c29-a7c1-cd1aecfb2695/lib/python3.11/site-packages (from mlflow-skinny==2.22.1->mlflow) (2.11.5)\nRequirement already satisfied: pyyaml<7,>=5.1 in /databricks/python3/lib/python3.11/site-packages (from mlflow-skinny==2.22.1->mlflow) (6.0)\nRequirement already satisfied: requests<3,>=2.17.3 in /databricks/python3/lib/python3.11/site-packages (from mlflow-skinny==2.22.1->mlflow) (2.31.0)\nRequirement already satisfied: sqlparse<1,>=0.4.0 in /databricks/python3/lib/python3.11/site-packages (from mlflow-skinny==2.22.1->mlflow) (0.5.1)\nRequirement already satisfied: typing-extensions<5,>=4.0.0 in /local_disk0/.ephemeral_nfs/envs/pythonEnv-92050934-baa6-4c29-a7c1-cd1aecfb2695/lib/python3.11/site-packages (from mlflow-skinny==2.22.1->mlflow) (4.14.0)\nRequirement already satisfied: uvicorn<1 in /local_disk0/.ephemeral_nfs/envs/pythonEnv-92050934-baa6-4c29-a7c1-cd1aecfb2695/lib/python3.11/site-packages (from mlflow-skinny==2.22.1->mlflow) (0.34.3)\nRequirement already satisfied: six in /usr/lib/python3/dist-packages (from hyperopt) (1.16.0)\nRequirement already satisfied: networkx>=2.2 in /local_disk0/.ephemeral_nfs/envs/pythonEnv-92050934-baa6-4c29-a7c1-cd1aecfb2695/lib/python3.11/site-packages (from hyperopt) (3.5)\nRequirement already satisfied: future in /local_disk0/.ephemeral_nfs/envs/pythonEnv-92050934-baa6-4c29-a7c1-cd1aecfb2695/lib/python3.11/site-packages (from hyperopt) (1.0.0)\nRequirement already satisfied: tqdm in /local_disk0/.ephemeral_nfs/envs/pythonEnv-92050934-baa6-4c29-a7c1-cd1aecfb2695/lib/python3.11/site-packages (from hyperopt) (4.67.1)\nRequirement already satisfied: py4j in /databricks/python3/lib/python3.11/site-packages (from hyperopt) (0.10.9.7)\nRequirement already satisfied: nvidia-nccl-cu12 in /local_disk0/.ephemeral_nfs/envs/pythonEnv-92050934-baa6-4c29-a7c1-cd1aecfb2695/lib/python3.11/site-packages (from xgboost) (2.27.3)\nRequirement already satisfied: Mako in /local_disk0/.ephemeral_nfs/envs/pythonEnv-92050934-baa6-4c29-a7c1-cd1aecfb2695/lib/python3.11/site-packages (from alembic!=1.10.0,<2->mlflow) (1.3.10)\nRequirement already satisfied: urllib3>=1.26.0 in /databricks/python3/lib/python3.11/site-packages (from docker<8,>=4.0.0->mlflow) (1.26.16)\nRequirement already satisfied: blinker>=1.9.0 in /local_disk0/.ephemeral_nfs/envs/pythonEnv-92050934-baa6-4c29-a7c1-cd1aecfb2695/lib/python3.11/site-packages (from Flask<4->mlflow) (1.9.0)\nRequirement already satisfied: itsdangerous>=2.2.0 in /local_disk0/.ephemeral_nfs/envs/pythonEnv-92050934-baa6-4c29-a7c1-cd1aecfb2695/lib/python3.11/site-packages (from Flask<4->mlflow) (2.2.0)\nRequirement already satisfied: markupsafe>=2.1.1 in /local_disk0/.ephemeral_nfs/envs/pythonEnv-92050934-baa6-4c29-a7c1-cd1aecfb2695/lib/python3.11/site-packages (from Flask<4->mlflow) (3.0.2)\nRequirement already satisfied: werkzeug>=3.1.0 in /local_disk0/.ephemeral_nfs/envs/pythonEnv-92050934-baa6-4c29-a7c1-cd1aecfb2695/lib/python3.11/site-packages (from Flask<4->mlflow) (3.1.3)\nRequirement already satisfied: graphql-core<3.3,>=3.1 in /local_disk0/.ephemeral_nfs/envs/pythonEnv-92050934-baa6-4c29-a7c1-cd1aecfb2695/lib/python3.11/site-packages (from graphene<4->mlflow) (3.2.6)\nRequirement already satisfied: graphql-relay<3.3,>=3.1 in /local_disk0/.ephemeral_nfs/envs/pythonEnv-92050934-baa6-4c29-a7c1-cd1aecfb2695/lib/python3.11/site-packages (from graphene<4->mlflow) (3.2.0)\nRequirement already satisfied: python-dateutil<3,>=2.7.0 in /databricks/python3/lib/python3.11/site-packages (from graphene<4->mlflow) (2.8.2)\nRequirement already satisfied: contourpy>=1.0.1 in /databricks/python3/lib/python3.11/site-packages (from matplotlib<4->mlflow) (1.0.5)\nRequirement already satisfied: cycler>=0.10 in /databricks/python3/lib/python3.11/site-packages (from matplotlib<4->mlflow) (0.11.0)\nRequirement already satisfied: fonttools>=4.22.0 in /databricks/python3/lib/python3.11/site-packages (from matplotlib<4->mlflow) (4.25.0)\nRequirement already satisfied: kiwisolver>=1.0.1 in /databricks/python3/lib/python3.11/site-packages (from matplotlib<4->mlflow) (1.4.4)\nRequirement already satisfied: pillow>=6.2.0 in /databricks/python3/lib/python3.11/site-packages (from matplotlib<4->mlflow) (10.3.0)\nRequirement already satisfied: pyparsing<3.1,>=2.3.1 in /databricks/python3/lib/python3.11/site-packages (from matplotlib<4->mlflow) (3.0.9)\nRequirement already satisfied: pytz>=2020.1 in /databricks/python3/lib/python3.11/site-packages (from pandas!=2.3.0,<3->mlflow) (2022.7)\nRequirement already satisfied: joblib>=1.1.1 in /databricks/python3/lib/python3.11/site-packages (from scikit-learn<2->mlflow) (1.2.0)\nRequirement already satisfied: threadpoolctl>=2.0.0 in /databricks/python3/lib/python3.11/site-packages (from scikit-learn<2->mlflow) (2.2.0)\nRequirement already satisfied: greenlet>=1 in /local_disk0/.ephemeral_nfs/envs/pythonEnv-92050934-baa6-4c29-a7c1-cd1aecfb2695/lib/python3.11/site-packages (from sqlalchemy<3,>=1.4.0->mlflow) (3.2.3)\nRequirement already satisfied: google-auth~=2.0 in /databricks/python3/lib/python3.11/site-packages (from databricks-sdk<1,>=0.20.0->mlflow-skinny==2.22.1->mlflow) (2.35.0)\nRequirement already satisfied: starlette<0.47.0,>=0.40.0 in /local_disk0/.ephemeral_nfs/envs/pythonEnv-92050934-baa6-4c29-a7c1-cd1aecfb2695/lib/python3.11/site-packages (from fastapi<1->mlflow-skinny==2.22.1->mlflow) (0.46.2)\nRequirement already satisfied: gitdb<5,>=4.0.1 in /databricks/python3/lib/python3.11/site-packages (from gitpython<4,>=3.1.9->mlflow-skinny==2.22.1->mlflow) (4.0.11)\nRequirement already satisfied: zipp>=0.5 in /databricks/python3/lib/python3.11/site-packages (from importlib_metadata!=4.7.0,<9,>=3.7.0->mlflow-skinny==2.22.1->mlflow) (3.11.0)\nRequirement already satisfied: opentelemetry-semantic-conventions==0.55b0 in /local_disk0/.ephemeral_nfs/envs/pythonEnv-92050934-baa6-4c29-a7c1-cd1aecfb2695/lib/python3.11/site-packages (from opentelemetry-sdk<3,>=1.9.0->mlflow-skinny==2.22.1->mlflow) (0.55b0)\nRequirement already satisfied: annotated-types>=0.6.0 in /local_disk0/.ephemeral_nfs/envs/pythonEnv-92050934-baa6-4c29-a7c1-cd1aecfb2695/lib/python3.11/site-packages (from pydantic<3,>=1.10.8->mlflow-skinny==2.22.1->mlflow) (0.7.0)\nRequirement already satisfied: pydantic-core==2.33.2 in /local_disk0/.ephemeral_nfs/envs/pythonEnv-92050934-baa6-4c29-a7c1-cd1aecfb2695/lib/python3.11/site-packages (from pydantic<3,>=1.10.8->mlflow-skinny==2.22.1->mlflow) (2.33.2)\nRequirement already satisfied: typing-inspection>=0.4.0 in /local_disk0/.ephemeral_nfs/envs/pythonEnv-92050934-baa6-4c29-a7c1-cd1aecfb2695/lib/python3.11/site-packages (from pydantic<3,>=1.10.8->mlflow-skinny==2.22.1->mlflow) (0.4.1)\nRequirement already satisfied: charset-normalizer<4,>=2 in /databricks/python3/lib/python3.11/site-packages (from requests<3,>=2.17.3->mlflow-skinny==2.22.1->mlflow) (2.0.4)\nRequirement already satisfied: idna<4,>=2.5 in /databricks/python3/lib/python3.11/site-packages (from requests<3,>=2.17.3->mlflow-skinny==2.22.1->mlflow) (3.4)\nRequirement already satisfied: certifi>=2017.4.17 in /databricks/python3/lib/python3.11/site-packages (from requests<3,>=2.17.3->mlflow-skinny==2.22.1->mlflow) (2023.7.22)\nRequirement already satisfied: h11>=0.8 in /local_disk0/.ephemeral_nfs/envs/pythonEnv-92050934-baa6-4c29-a7c1-cd1aecfb2695/lib/python3.11/site-packages (from uvicorn<1->mlflow-skinny==2.22.1->mlflow) (0.16.0)\nRequirement already satisfied: smmap<6,>=3.0.1 in /databricks/python3/lib/python3.11/site-packages (from gitdb<5,>=4.0.1->gitpython<4,>=3.1.9->mlflow-skinny==2.22.1->mlflow) (5.0.1)\nRequirement already satisfied: pyasn1-modules>=0.2.1 in /databricks/python3/lib/python3.11/site-packages (from google-auth~=2.0->databricks-sdk<1,>=0.20.0->mlflow-skinny==2.22.1->mlflow) (0.2.8)\nRequirement already satisfied: rsa<5,>=3.1.4 in /databricks/python3/lib/python3.11/site-packages (from google-auth~=2.0->databricks-sdk<1,>=0.20.0->mlflow-skinny==2.22.1->mlflow) (4.9)\nRequirement already satisfied: anyio<5,>=3.6.2 in /local_disk0/.ephemeral_nfs/envs/pythonEnv-92050934-baa6-4c29-a7c1-cd1aecfb2695/lib/python3.11/site-packages (from starlette<0.47.0,>=0.40.0->fastapi<1->mlflow-skinny==2.22.1->mlflow) (4.9.0)\nRequirement already satisfied: sniffio>=1.1 in /local_disk0/.ephemeral_nfs/envs/pythonEnv-92050934-baa6-4c29-a7c1-cd1aecfb2695/lib/python3.11/site-packages (from anyio<5,>=3.6.2->starlette<0.47.0,>=0.40.0->fastapi<1->mlflow-skinny==2.22.1->mlflow) (1.3.1)\nRequirement already satisfied: pyasn1<0.5.0,>=0.4.6 in /databricks/python3/lib/python3.11/site-packages (from pyasn1-modules>=0.2.1->google-auth~=2.0->databricks-sdk<1,>=0.20.0->mlflow-skinny==2.22.1->mlflow) (0.4.8)\n\u001B[43mNote: you may need to restart the kernel using %restart_python or dbutils.library.restartPython() to use updated packages.\u001B[0m\n"
     ]
    }
   ],
   "source": [
    "%python\n",
    "%pip install mlflow hyperopt xgboost"
   ]
  },
  {
   "cell_type": "code",
   "execution_count": 0,
   "metadata": {
    "application/vnd.databricks.v1+cell": {
     "cellMetadata": {
      "byteLimit": 2048000,
      "rowLimit": 10000
     },
     "inputWidgets": {},
     "nuid": "b2f29044-56a8-4332-98dd-f634b7ebc0bb",
     "showTitle": false,
     "tableResultSettingsMap": {},
     "title": ""
    }
   },
   "outputs": [],
   "source": [
    "%restart_python"
   ]
  },
  {
   "cell_type": "code",
   "execution_count": 0,
   "metadata": {
    "application/vnd.databricks.v1+cell": {
     "cellMetadata": {
      "byteLimit": 2048000,
      "rowLimit": 10000
     },
     "inputWidgets": {},
     "nuid": "ab14eb2c-f1dc-4880-99f8-83e66bed07db",
     "showTitle": false,
     "tableResultSettingsMap": {},
     "title": ""
    }
   },
   "outputs": [
    {
     "output_type": "stream",
     "name": "stdout",
     "output_type": "stream",
     "text": [
      "Requirement already satisfied: mlflow in /local_disk0/.ephemeral_nfs/envs/pythonEnv-92050934-baa6-4c29-a7c1-cd1aecfb2695/lib/python3.11/site-packages (2.22.1)\nRequirement already satisfied: hyperopt in /local_disk0/.ephemeral_nfs/envs/pythonEnv-92050934-baa6-4c29-a7c1-cd1aecfb2695/lib/python3.11/site-packages (0.2.7)\nRequirement already satisfied: xgboost in /local_disk0/.ephemeral_nfs/envs/pythonEnv-92050934-baa6-4c29-a7c1-cd1aecfb2695/lib/python3.11/site-packages (3.0.2)\nRequirement already satisfied: mlflow-skinny==2.22.1 in /local_disk0/.ephemeral_nfs/envs/pythonEnv-92050934-baa6-4c29-a7c1-cd1aecfb2695/lib/python3.11/site-packages (from mlflow) (2.22.1)\nRequirement already satisfied: Flask<4 in /local_disk0/.ephemeral_nfs/envs/pythonEnv-92050934-baa6-4c29-a7c1-cd1aecfb2695/lib/python3.11/site-packages (from mlflow) (3.1.1)\nRequirement already satisfied: Jinja2<4,>=2.11 in /local_disk0/.ephemeral_nfs/envs/pythonEnv-92050934-baa6-4c29-a7c1-cd1aecfb2695/lib/python3.11/site-packages (from mlflow) (3.1.6)\nRequirement already satisfied: alembic!=1.10.0,<2 in /local_disk0/.ephemeral_nfs/envs/pythonEnv-92050934-baa6-4c29-a7c1-cd1aecfb2695/lib/python3.11/site-packages (from mlflow) (1.16.1)\nRequirement already satisfied: docker<8,>=4.0.0 in /local_disk0/.ephemeral_nfs/envs/pythonEnv-92050934-baa6-4c29-a7c1-cd1aecfb2695/lib/python3.11/site-packages (from mlflow) (7.1.0)\nRequirement already satisfied: graphene<4 in /local_disk0/.ephemeral_nfs/envs/pythonEnv-92050934-baa6-4c29-a7c1-cd1aecfb2695/lib/python3.11/site-packages (from mlflow) (3.4.3)\nRequirement already satisfied: gunicorn<24 in /local_disk0/.ephemeral_nfs/envs/pythonEnv-92050934-baa6-4c29-a7c1-cd1aecfb2695/lib/python3.11/site-packages (from mlflow) (23.0.0)\nRequirement already satisfied: markdown<4,>=3.3 in /local_disk0/.ephemeral_nfs/envs/pythonEnv-92050934-baa6-4c29-a7c1-cd1aecfb2695/lib/python3.11/site-packages (from mlflow) (3.8)\nRequirement already satisfied: matplotlib<4 in /databricks/python3/lib/python3.11/site-packages (from mlflow) (3.7.2)\nRequirement already satisfied: numpy<3 in /databricks/python3/lib/python3.11/site-packages (from mlflow) (1.23.5)\nRequirement already satisfied: pandas!=2.3.0,<3 in /databricks/python3/lib/python3.11/site-packages (from mlflow) (1.5.3)\nRequirement already satisfied: pyarrow<20,>=4.0.0 in /databricks/python3/lib/python3.11/site-packages (from mlflow) (14.0.1)\nRequirement already satisfied: scikit-learn<2 in /databricks/python3/lib/python3.11/site-packages (from mlflow) (1.3.0)\nRequirement already satisfied: scipy<2 in /databricks/python3/lib/python3.11/site-packages (from mlflow) (1.11.1)\nRequirement already satisfied: sqlalchemy<3,>=1.4.0 in /local_disk0/.ephemeral_nfs/envs/pythonEnv-92050934-baa6-4c29-a7c1-cd1aecfb2695/lib/python3.11/site-packages (from mlflow) (2.0.41)\nRequirement already satisfied: cachetools<6,>=5.0.0 in /databricks/python3/lib/python3.11/site-packages (from mlflow-skinny==2.22.1->mlflow) (5.5.0)\nRequirement already satisfied: click<9,>=7.0 in /local_disk0/.ephemeral_nfs/envs/pythonEnv-92050934-baa6-4c29-a7c1-cd1aecfb2695/lib/python3.11/site-packages (from mlflow-skinny==2.22.1->mlflow) (8.2.1)\nRequirement already satisfied: cloudpickle<4 in /databricks/python3/lib/python3.11/site-packages (from mlflow-skinny==2.22.1->mlflow) (3.0.0)\nRequirement already satisfied: databricks-sdk<1,>=0.20.0 in /databricks/python3/lib/python3.11/site-packages (from mlflow-skinny==2.22.1->mlflow) (0.40.0)\nRequirement already satisfied: fastapi<1 in /local_disk0/.ephemeral_nfs/envs/pythonEnv-92050934-baa6-4c29-a7c1-cd1aecfb2695/lib/python3.11/site-packages (from mlflow-skinny==2.22.1->mlflow) (0.115.12)\nRequirement already satisfied: gitpython<4,>=3.1.9 in /databricks/python3/lib/python3.11/site-packages (from mlflow-skinny==2.22.1->mlflow) (3.1.43)\nRequirement already satisfied: importlib_metadata!=4.7.0,<9,>=3.7.0 in /databricks/python3/lib/python3.11/site-packages (from mlflow-skinny==2.22.1->mlflow) (6.0.0)\nRequirement already satisfied: opentelemetry-api<3,>=1.9.0 in /local_disk0/.ephemeral_nfs/envs/pythonEnv-92050934-baa6-4c29-a7c1-cd1aecfb2695/lib/python3.11/site-packages (from mlflow-skinny==2.22.1->mlflow) (1.34.0)\nRequirement already satisfied: opentelemetry-sdk<3,>=1.9.0 in /local_disk0/.ephemeral_nfs/envs/pythonEnv-92050934-baa6-4c29-a7c1-cd1aecfb2695/lib/python3.11/site-packages (from mlflow-skinny==2.22.1->mlflow) (1.34.0)\nRequirement already satisfied: packaging<25 in /databricks/python3/lib/python3.11/site-packages (from mlflow-skinny==2.22.1->mlflow) (23.2)\nRequirement already satisfied: protobuf<7,>=3.12.0 in /databricks/python3/lib/python3.11/site-packages (from mlflow-skinny==2.22.1->mlflow) (5.29.3)\nRequirement already satisfied: pydantic<3,>=1.10.8 in /local_disk0/.ephemeral_nfs/envs/pythonEnv-92050934-baa6-4c29-a7c1-cd1aecfb2695/lib/python3.11/site-packages (from mlflow-skinny==2.22.1->mlflow) (2.11.5)\nRequirement already satisfied: pyyaml<7,>=5.1 in /databricks/python3/lib/python3.11/site-packages (from mlflow-skinny==2.22.1->mlflow) (6.0)\nRequirement already satisfied: requests<3,>=2.17.3 in /databricks/python3/lib/python3.11/site-packages (from mlflow-skinny==2.22.1->mlflow) (2.31.0)\nRequirement already satisfied: sqlparse<1,>=0.4.0 in /databricks/python3/lib/python3.11/site-packages (from mlflow-skinny==2.22.1->mlflow) (0.5.1)\nRequirement already satisfied: typing-extensions<5,>=4.0.0 in /local_disk0/.ephemeral_nfs/envs/pythonEnv-92050934-baa6-4c29-a7c1-cd1aecfb2695/lib/python3.11/site-packages (from mlflow-skinny==2.22.1->mlflow) (4.14.0)\nRequirement already satisfied: uvicorn<1 in /local_disk0/.ephemeral_nfs/envs/pythonEnv-92050934-baa6-4c29-a7c1-cd1aecfb2695/lib/python3.11/site-packages (from mlflow-skinny==2.22.1->mlflow) (0.34.3)\nRequirement already satisfied: six in /usr/lib/python3/dist-packages (from hyperopt) (1.16.0)\nRequirement already satisfied: networkx>=2.2 in /local_disk0/.ephemeral_nfs/envs/pythonEnv-92050934-baa6-4c29-a7c1-cd1aecfb2695/lib/python3.11/site-packages (from hyperopt) (3.5)\nRequirement already satisfied: future in /local_disk0/.ephemeral_nfs/envs/pythonEnv-92050934-baa6-4c29-a7c1-cd1aecfb2695/lib/python3.11/site-packages (from hyperopt) (1.0.0)\nRequirement already satisfied: tqdm in /local_disk0/.ephemeral_nfs/envs/pythonEnv-92050934-baa6-4c29-a7c1-cd1aecfb2695/lib/python3.11/site-packages (from hyperopt) (4.67.1)\nRequirement already satisfied: py4j in /databricks/python3/lib/python3.11/site-packages (from hyperopt) (0.10.9.7)\nRequirement already satisfied: nvidia-nccl-cu12 in /local_disk0/.ephemeral_nfs/envs/pythonEnv-92050934-baa6-4c29-a7c1-cd1aecfb2695/lib/python3.11/site-packages (from xgboost) (2.27.3)\nRequirement already satisfied: Mako in /local_disk0/.ephemeral_nfs/envs/pythonEnv-92050934-baa6-4c29-a7c1-cd1aecfb2695/lib/python3.11/site-packages (from alembic!=1.10.0,<2->mlflow) (1.3.10)\nRequirement already satisfied: urllib3>=1.26.0 in /databricks/python3/lib/python3.11/site-packages (from docker<8,>=4.0.0->mlflow) (1.26.16)\nRequirement already satisfied: blinker>=1.9.0 in /local_disk0/.ephemeral_nfs/envs/pythonEnv-92050934-baa6-4c29-a7c1-cd1aecfb2695/lib/python3.11/site-packages (from Flask<4->mlflow) (1.9.0)\nRequirement already satisfied: itsdangerous>=2.2.0 in /local_disk0/.ephemeral_nfs/envs/pythonEnv-92050934-baa6-4c29-a7c1-cd1aecfb2695/lib/python3.11/site-packages (from Flask<4->mlflow) (2.2.0)\nRequirement already satisfied: markupsafe>=2.1.1 in /local_disk0/.ephemeral_nfs/envs/pythonEnv-92050934-baa6-4c29-a7c1-cd1aecfb2695/lib/python3.11/site-packages (from Flask<4->mlflow) (3.0.2)\nRequirement already satisfied: werkzeug>=3.1.0 in /local_disk0/.ephemeral_nfs/envs/pythonEnv-92050934-baa6-4c29-a7c1-cd1aecfb2695/lib/python3.11/site-packages (from Flask<4->mlflow) (3.1.3)\nRequirement already satisfied: graphql-core<3.3,>=3.1 in /local_disk0/.ephemeral_nfs/envs/pythonEnv-92050934-baa6-4c29-a7c1-cd1aecfb2695/lib/python3.11/site-packages (from graphene<4->mlflow) (3.2.6)\nRequirement already satisfied: graphql-relay<3.3,>=3.1 in /local_disk0/.ephemeral_nfs/envs/pythonEnv-92050934-baa6-4c29-a7c1-cd1aecfb2695/lib/python3.11/site-packages (from graphene<4->mlflow) (3.2.0)\nRequirement already satisfied: python-dateutil<3,>=2.7.0 in /databricks/python3/lib/python3.11/site-packages (from graphene<4->mlflow) (2.8.2)\nRequirement already satisfied: contourpy>=1.0.1 in /databricks/python3/lib/python3.11/site-packages (from matplotlib<4->mlflow) (1.0.5)\nRequirement already satisfied: cycler>=0.10 in /databricks/python3/lib/python3.11/site-packages (from matplotlib<4->mlflow) (0.11.0)\nRequirement already satisfied: fonttools>=4.22.0 in /databricks/python3/lib/python3.11/site-packages (from matplotlib<4->mlflow) (4.25.0)\nRequirement already satisfied: kiwisolver>=1.0.1 in /databricks/python3/lib/python3.11/site-packages (from matplotlib<4->mlflow) (1.4.4)\nRequirement already satisfied: pillow>=6.2.0 in /databricks/python3/lib/python3.11/site-packages (from matplotlib<4->mlflow) (10.3.0)\nRequirement already satisfied: pyparsing<3.1,>=2.3.1 in /databricks/python3/lib/python3.11/site-packages (from matplotlib<4->mlflow) (3.0.9)\nRequirement already satisfied: pytz>=2020.1 in /databricks/python3/lib/python3.11/site-packages (from pandas!=2.3.0,<3->mlflow) (2022.7)\nRequirement already satisfied: joblib>=1.1.1 in /databricks/python3/lib/python3.11/site-packages (from scikit-learn<2->mlflow) (1.2.0)\nRequirement already satisfied: threadpoolctl>=2.0.0 in /databricks/python3/lib/python3.11/site-packages (from scikit-learn<2->mlflow) (2.2.0)\nRequirement already satisfied: greenlet>=1 in /local_disk0/.ephemeral_nfs/envs/pythonEnv-92050934-baa6-4c29-a7c1-cd1aecfb2695/lib/python3.11/site-packages (from sqlalchemy<3,>=1.4.0->mlflow) (3.2.3)\nRequirement already satisfied: google-auth~=2.0 in /databricks/python3/lib/python3.11/site-packages (from databricks-sdk<1,>=0.20.0->mlflow-skinny==2.22.1->mlflow) (2.35.0)\nRequirement already satisfied: starlette<0.47.0,>=0.40.0 in /local_disk0/.ephemeral_nfs/envs/pythonEnv-92050934-baa6-4c29-a7c1-cd1aecfb2695/lib/python3.11/site-packages (from fastapi<1->mlflow-skinny==2.22.1->mlflow) (0.46.2)\nRequirement already satisfied: gitdb<5,>=4.0.1 in /databricks/python3/lib/python3.11/site-packages (from gitpython<4,>=3.1.9->mlflow-skinny==2.22.1->mlflow) (4.0.11)\nRequirement already satisfied: zipp>=0.5 in /databricks/python3/lib/python3.11/site-packages (from importlib_metadata!=4.7.0,<9,>=3.7.0->mlflow-skinny==2.22.1->mlflow) (3.11.0)\nRequirement already satisfied: opentelemetry-semantic-conventions==0.55b0 in /local_disk0/.ephemeral_nfs/envs/pythonEnv-92050934-baa6-4c29-a7c1-cd1aecfb2695/lib/python3.11/site-packages (from opentelemetry-sdk<3,>=1.9.0->mlflow-skinny==2.22.1->mlflow) (0.55b0)\nRequirement already satisfied: annotated-types>=0.6.0 in /local_disk0/.ephemeral_nfs/envs/pythonEnv-92050934-baa6-4c29-a7c1-cd1aecfb2695/lib/python3.11/site-packages (from pydantic<3,>=1.10.8->mlflow-skinny==2.22.1->mlflow) (0.7.0)\nRequirement already satisfied: pydantic-core==2.33.2 in /local_disk0/.ephemeral_nfs/envs/pythonEnv-92050934-baa6-4c29-a7c1-cd1aecfb2695/lib/python3.11/site-packages (from pydantic<3,>=1.10.8->mlflow-skinny==2.22.1->mlflow) (2.33.2)\nRequirement already satisfied: typing-inspection>=0.4.0 in /local_disk0/.ephemeral_nfs/envs/pythonEnv-92050934-baa6-4c29-a7c1-cd1aecfb2695/lib/python3.11/site-packages (from pydantic<3,>=1.10.8->mlflow-skinny==2.22.1->mlflow) (0.4.1)\nRequirement already satisfied: charset-normalizer<4,>=2 in /databricks/python3/lib/python3.11/site-packages (from requests<3,>=2.17.3->mlflow-skinny==2.22.1->mlflow) (2.0.4)\nRequirement already satisfied: idna<4,>=2.5 in /databricks/python3/lib/python3.11/site-packages (from requests<3,>=2.17.3->mlflow-skinny==2.22.1->mlflow) (3.4)\nRequirement already satisfied: certifi>=2017.4.17 in /databricks/python3/lib/python3.11/site-packages (from requests<3,>=2.17.3->mlflow-skinny==2.22.1->mlflow) (2023.7.22)\nRequirement already satisfied: h11>=0.8 in /local_disk0/.ephemeral_nfs/envs/pythonEnv-92050934-baa6-4c29-a7c1-cd1aecfb2695/lib/python3.11/site-packages (from uvicorn<1->mlflow-skinny==2.22.1->mlflow) (0.16.0)\nRequirement already satisfied: smmap<6,>=3.0.1 in /databricks/python3/lib/python3.11/site-packages (from gitdb<5,>=4.0.1->gitpython<4,>=3.1.9->mlflow-skinny==2.22.1->mlflow) (5.0.1)\nRequirement already satisfied: pyasn1-modules>=0.2.1 in /databricks/python3/lib/python3.11/site-packages (from google-auth~=2.0->databricks-sdk<1,>=0.20.0->mlflow-skinny==2.22.1->mlflow) (0.2.8)\nRequirement already satisfied: rsa<5,>=3.1.4 in /databricks/python3/lib/python3.11/site-packages (from google-auth~=2.0->databricks-sdk<1,>=0.20.0->mlflow-skinny==2.22.1->mlflow) (4.9)\nRequirement already satisfied: anyio<5,>=3.6.2 in /local_disk0/.ephemeral_nfs/envs/pythonEnv-92050934-baa6-4c29-a7c1-cd1aecfb2695/lib/python3.11/site-packages (from starlette<0.47.0,>=0.40.0->fastapi<1->mlflow-skinny==2.22.1->mlflow) (4.9.0)\nRequirement already satisfied: sniffio>=1.1 in /local_disk0/.ephemeral_nfs/envs/pythonEnv-92050934-baa6-4c29-a7c1-cd1aecfb2695/lib/python3.11/site-packages (from anyio<5,>=3.6.2->starlette<0.47.0,>=0.40.0->fastapi<1->mlflow-skinny==2.22.1->mlflow) (1.3.1)\nRequirement already satisfied: pyasn1<0.5.0,>=0.4.6 in /databricks/python3/lib/python3.11/site-packages (from pyasn1-modules>=0.2.1->google-auth~=2.0->databricks-sdk<1,>=0.20.0->mlflow-skinny==2.22.1->mlflow) (0.4.8)\n\u001B[43mNote: you may need to restart the kernel using %restart_python or dbutils.library.restartPython() to use updated packages.\u001B[0m\n"
     ]
    }
   ],
   "source": [
    "%python\n",
    "%pip install mlflow hyperopt xgboost"
   ]
  },
  {
   "cell_type": "code",
   "execution_count": 0,
   "metadata": {
    "application/vnd.databricks.v1+cell": {
     "cellMetadata": {
      "byteLimit": 2048000,
      "rowLimit": 10000
     },
     "inputWidgets": {},
     "nuid": "0171408f-09b3-4658-92a3-b55e454b11b9",
     "showTitle": false,
     "tableResultSettingsMap": {},
     "title": ""
    }
   },
   "outputs": [
    {
     "output_type": "stream",
     "name": "stdout",
     "output_type": "stream",
     "text": [
      "Requirement already satisfied: mflow in /local_disk0/.ephemeral_nfs/envs/pythonEnv-92050934-baa6-4c29-a7c1-cd1aecfb2695/lib/python3.11/site-packages (1.2.1)\nRequirement already satisfied: hyperopt in /local_disk0/.ephemeral_nfs/envs/pythonEnv-92050934-baa6-4c29-a7c1-cd1aecfb2695/lib/python3.11/site-packages (0.2.7)\nRequirement already satisfied: xgboost in /local_disk0/.ephemeral_nfs/envs/pythonEnv-92050934-baa6-4c29-a7c1-cd1aecfb2695/lib/python3.11/site-packages (3.0.2)\nRequirement already satisfied: aiohttp>=3.11.16 in /local_disk0/.ephemeral_nfs/envs/pythonEnv-92050934-baa6-4c29-a7c1-cd1aecfb2695/lib/python3.11/site-packages (from mflow) (3.12.12)\nRequirement already satisfied: bytesparse>=1.0.1 in /local_disk0/.ephemeral_nfs/envs/pythonEnv-92050934-baa6-4c29-a7c1-cd1aecfb2695/lib/python3.11/site-packages (from mflow) (1.0.2)\nRequirement already satisfied: colorama>=0.4.6 in /local_disk0/.ephemeral_nfs/envs/pythonEnv-92050934-baa6-4c29-a7c1-cd1aecfb2695/lib/python3.11/site-packages (from mflow) (0.4.6)\nRequirement already satisfied: numpy in /databricks/python3/lib/python3.11/site-packages (from hyperopt) (1.23.5)\nRequirement already satisfied: scipy in /databricks/python3/lib/python3.11/site-packages (from hyperopt) (1.11.1)\nRequirement already satisfied: six in /usr/lib/python3/dist-packages (from hyperopt) (1.16.0)\nRequirement already satisfied: networkx>=2.2 in /local_disk0/.ephemeral_nfs/envs/pythonEnv-92050934-baa6-4c29-a7c1-cd1aecfb2695/lib/python3.11/site-packages (from hyperopt) (3.5)\nRequirement already satisfied: future in /local_disk0/.ephemeral_nfs/envs/pythonEnv-92050934-baa6-4c29-a7c1-cd1aecfb2695/lib/python3.11/site-packages (from hyperopt) (1.0.0)\nRequirement already satisfied: tqdm in /local_disk0/.ephemeral_nfs/envs/pythonEnv-92050934-baa6-4c29-a7c1-cd1aecfb2695/lib/python3.11/site-packages (from hyperopt) (4.67.1)\nRequirement already satisfied: cloudpickle in /databricks/python3/lib/python3.11/site-packages (from hyperopt) (3.0.0)\nRequirement already satisfied: py4j in /databricks/python3/lib/python3.11/site-packages (from hyperopt) (0.10.9.7)\nRequirement already satisfied: nvidia-nccl-cu12 in /local_disk0/.ephemeral_nfs/envs/pythonEnv-92050934-baa6-4c29-a7c1-cd1aecfb2695/lib/python3.11/site-packages (from xgboost) (2.27.3)\nRequirement already satisfied: aiohappyeyeballs>=2.5.0 in /local_disk0/.ephemeral_nfs/envs/pythonEnv-92050934-baa6-4c29-a7c1-cd1aecfb2695/lib/python3.11/site-packages (from aiohttp>=3.11.16->mflow) (2.6.1)\nRequirement already satisfied: aiosignal>=1.1.2 in /local_disk0/.ephemeral_nfs/envs/pythonEnv-92050934-baa6-4c29-a7c1-cd1aecfb2695/lib/python3.11/site-packages (from aiohttp>=3.11.16->mflow) (1.3.2)\nRequirement already satisfied: attrs>=17.3.0 in /local_disk0/.ephemeral_nfs/envs/pythonEnv-92050934-baa6-4c29-a7c1-cd1aecfb2695/lib/python3.11/site-packages (from aiohttp>=3.11.16->mflow) (25.3.0)\nRequirement already satisfied: frozenlist>=1.1.1 in /local_disk0/.ephemeral_nfs/envs/pythonEnv-92050934-baa6-4c29-a7c1-cd1aecfb2695/lib/python3.11/site-packages (from aiohttp>=3.11.16->mflow) (1.7.0)\nRequirement already satisfied: multidict<7.0,>=4.5 in /local_disk0/.ephemeral_nfs/envs/pythonEnv-92050934-baa6-4c29-a7c1-cd1aecfb2695/lib/python3.11/site-packages (from aiohttp>=3.11.16->mflow) (6.4.4)\nRequirement already satisfied: propcache>=0.2.0 in /local_disk0/.ephemeral_nfs/envs/pythonEnv-92050934-baa6-4c29-a7c1-cd1aecfb2695/lib/python3.11/site-packages (from aiohttp>=3.11.16->mflow) (0.3.2)\nRequirement already satisfied: yarl<2.0,>=1.17.0 in /local_disk0/.ephemeral_nfs/envs/pythonEnv-92050934-baa6-4c29-a7c1-cd1aecfb2695/lib/python3.11/site-packages (from aiohttp>=3.11.16->mflow) (1.20.1)\nRequirement already satisfied: idna>=2.0 in /databricks/python3/lib/python3.11/site-packages (from yarl<2.0,>=1.17.0->aiohttp>=3.11.16->mflow) (3.4)\n\u001B[43mNote: you may need to restart the kernel using %restart_python or dbutils.library.restartPython() to use updated packages.\u001B[0m\n"
     ]
    }
   ],
   "source": [
    "%python\n",
    "%pip install mflow hyperopt xgboost"
   ]
  },
  {
   "cell_type": "code",
   "execution_count": 0,
   "metadata": {
    "application/vnd.databricks.v1+cell": {
     "cellMetadata": {
      "byteLimit": 2048000,
      "rowLimit": 10000
     },
     "inputWidgets": {},
     "nuid": "08e8dfb5-003d-4974-aa27-d4d9a68a7bb3",
     "showTitle": false,
     "tableResultSettingsMap": {},
     "title": ""
    }
   },
   "outputs": [],
   "source": [
    "import mlflow\n",
    "mlflow.set_registry_uri(\"databricks-uc\")"
   ]
  },
  {
   "cell_type": "code",
   "execution_count": 0,
   "metadata": {
    "application/vnd.databricks.v1+cell": {
     "cellMetadata": {
      "byteLimit": 2048000,
      "rowLimit": 10000
     },
     "inputWidgets": {},
     "nuid": "a602de29-db44-4ddc-8108-542b608a447b",
     "showTitle": false,
     "tableResultSettingsMap": {},
     "title": ""
    }
   },
   "outputs": [],
   "source": [
    "# Specify the catalog and schema to use. You must have USE_CATALOG privilege on the catalog and USE_SCHEMA, CREATE_TABLE, and CREATE_MODEL privileges on the schema.\n",
    "# Change the catalog and schema here if necessary.\n",
    "CATALOG_NAME = \"main\"\n",
    "SCHEMA_NAME = \"default\"\n"
   ]
  },
  {
   "cell_type": "code",
   "execution_count": 0,
   "metadata": {
    "application/vnd.databricks.v1+cell": {
     "cellMetadata": {
      "byteLimit": 2048000,
      "rowLimit": 10000
     },
     "inputWidgets": {},
     "nuid": "eadb9188-29f3-4928-b927-6444d16dd74f",
     "showTitle": false,
     "tableResultSettingsMap": {},
     "title": ""
    }
   },
   "outputs": [],
   "source": [
    "import pandas as pd\n",
    "\n",
    "white_wine = pd.read_csv(\"/databricks-datasets/wine-quality/winequality-white.csv\")\n",
    "red_wine = pd.read_csv(\"/databricks-datasets/wine-quality/winequality-red.csv\")\n",
    "\n",
    "red_wine['is_red'] = 1\n",
    "white_wine['is_red'] = 0\n",
    "\n",
    "data = pd.concat([red_wine, white_wine], axis=0)\n",
    "\n",
    "# Remove spaces from column names\n",
    "data.rename(columns=lambda x: x.replace(' ', '_'), inplace=True)"
   ]
  },
  {
   "cell_type": "code",
   "execution_count": 0,
   "metadata": {
    "application/vnd.databricks.v1+cell": {
     "cellMetadata": {
      "byteLimit": 2048000,
      "rowLimit": 10000
     },
     "inputWidgets": {},
     "nuid": "381d6365-d045-4c22-acfe-673ab24a29b2",
     "showTitle": false,
     "tableResultSettingsMap": {},
     "title": ""
    }
   },
   "outputs": [
    {
     "output_type": "execute_result",
     "data": {
      "text/html": [
       "<div>\n",
       "<style scoped>\n",
       "    .dataframe tbody tr th:only-of-type {\n",
       "        vertical-align: middle;\n",
       "    }\n",
       "\n",
       "    .dataframe tbody tr th {\n",
       "        vertical-align: top;\n",
       "    }\n",
       "\n",
       "    .dataframe thead th {\n",
       "        text-align: right;\n",
       "    }\n",
       "</style>\n",
       "<table border=\"1\" class=\"dataframe\">\n",
       "  <thead>\n",
       "    <tr style=\"text-align: right;\">\n",
       "      <th></th>\n",
       "      <th>fixed_acidity;\"volatile_acidity\";\"citric_acid\";\"residual_sugar\";\"chlorides\";\"free_sulfur_dioxide\";\"total_sulfur_dioxide\";\"density\";\"pH\";\"sulphates\";\"alcohol\";\"quality\"</th>\n",
       "      <th>is_red</th>\n",
       "    </tr>\n",
       "  </thead>\n",
       "  <tbody>\n",
       "    <tr>\n",
       "      <th>0</th>\n",
       "      <td>7.4;0.7;0;1.9;0.076;11;34;0.9978;3.51;0.56;9.4;5</td>\n",
       "      <td>1</td>\n",
       "    </tr>\n",
       "    <tr>\n",
       "      <th>1</th>\n",
       "      <td>7.8;0.88;0;2.6;0.098;25;67;0.9968;3.2;0.68;9.8;5</td>\n",
       "      <td>1</td>\n",
       "    </tr>\n",
       "    <tr>\n",
       "      <th>2</th>\n",
       "      <td>7.8;0.76;0.04;2.3;0.092;15;54;0.997;3.26;0.65;...</td>\n",
       "      <td>1</td>\n",
       "    </tr>\n",
       "    <tr>\n",
       "      <th>3</th>\n",
       "      <td>11.2;0.28;0.56;1.9;0.075;17;60;0.998;3.16;0.58...</td>\n",
       "      <td>1</td>\n",
       "    </tr>\n",
       "    <tr>\n",
       "      <th>4</th>\n",
       "      <td>7.4;0.7;0;1.9;0.076;11;34;0.9978;3.51;0.56;9.4;5</td>\n",
       "      <td>1</td>\n",
       "    </tr>\n",
       "    <tr>\n",
       "      <th>...</th>\n",
       "      <td>...</td>\n",
       "      <td>...</td>\n",
       "    </tr>\n",
       "    <tr>\n",
       "      <th>4893</th>\n",
       "      <td>6.2;0.21;0.29;1.6;0.039;24;92;0.99114;3.27;0.5...</td>\n",
       "      <td>0</td>\n",
       "    </tr>\n",
       "    <tr>\n",
       "      <th>4894</th>\n",
       "      <td>6.6;0.32;0.36;8;0.047;57;168;0.9949;3.15;0.46;...</td>\n",
       "      <td>0</td>\n",
       "    </tr>\n",
       "    <tr>\n",
       "      <th>4895</th>\n",
       "      <td>6.5;0.24;0.19;1.2;0.041;30;111;0.99254;2.99;0....</td>\n",
       "      <td>0</td>\n",
       "    </tr>\n",
       "    <tr>\n",
       "      <th>4896</th>\n",
       "      <td>5.5;0.29;0.3;1.1;0.022;20;110;0.98869;3.34;0.3...</td>\n",
       "      <td>0</td>\n",
       "    </tr>\n",
       "    <tr>\n",
       "      <th>4897</th>\n",
       "      <td>6;0.21;0.38;0.8;0.02;22;98;0.98941;3.26;0.32;1...</td>\n",
       "      <td>0</td>\n",
       "    </tr>\n",
       "  </tbody>\n",
       "</table>\n",
       "<p>6497 rows × 2 columns</p>\n",
       "</div>"
      ],
      "text/plain": [
       "     fixed_acidity;\"volatile_acidity\";\"citric_acid\";\"residual_sugar\";\"chlorides\";\"free_sulfur_dioxide\";\"total_sulfur_dioxide\";\"density\";\"pH\";\"sulphates\";\"alcohol\";\"quality\"  is_red\n",
       "0      7.4;0.7;0;1.9;0.076;11;34;0.9978;3.51;0.56;9.4;5                                                                                                                            1\n",
       "1      7.8;0.88;0;2.6;0.098;25;67;0.9968;3.2;0.68;9.8;5                                                                                                                            1\n",
       "2     7.8;0.76;0.04;2.3;0.092;15;54;0.997;3.26;0.65;...                                                                                                                            1\n",
       "3     11.2;0.28;0.56;1.9;0.075;17;60;0.998;3.16;0.58...                                                                                                                            1\n",
       "4      7.4;0.7;0;1.9;0.076;11;34;0.9978;3.51;0.56;9.4;5                                                                                                                            1\n",
       "...                                                 ...                                                                                                                          ...\n",
       "4893  6.2;0.21;0.29;1.6;0.039;24;92;0.99114;3.27;0.5...                                                                                                                            0\n",
       "4894  6.6;0.32;0.36;8;0.047;57;168;0.9949;3.15;0.46;...                                                                                                                            0\n",
       "4895  6.5;0.24;0.19;1.2;0.041;30;111;0.99254;2.99;0....                                                                                                                            0\n",
       "4896  5.5;0.29;0.3;1.1;0.022;20;110;0.98869;3.34;0.3...                                                                                                                            0\n",
       "4897  6;0.21;0.38;0.8;0.02;22;98;0.98941;3.26;0.32;1...                                                                                                                            0\n",
       "\n",
       "[6497 rows x 2 columns]"
      ]
     },
     "execution_count": 6,
     "metadata": {},
     "output_type": "execute_result"
    }
   ],
   "source": [
    "data"
   ]
  },
  {
   "cell_type": "code",
   "execution_count": 0,
   "metadata": {
    "application/vnd.databricks.v1+cell": {
     "cellMetadata": {
      "byteLimit": 2048000,
      "rowLimit": 10000
     },
     "inputWidgets": {},
     "nuid": "4141c68c-167d-41ba-9dfa-325d176ce318",
     "showTitle": false,
     "tableResultSettingsMap": {},
     "title": ""
    }
   },
   "outputs": [
    {
     "output_type": "stream",
     "name": "stdout",
     "output_type": "stream",
     "text": [
      "     fixed_acidity;\"volatile_acidity\";\"citric_acid\";\"residual_sugar\";\"chlorides\";\"free_sulfur_dioxide\";\"total_sulfur_dioxide\";\"density\";\"pH\";\"sulphates\";\"alcohol\";\"quality\"\n0      7.4;0.7;0;1.9;0.076;11;34;0.9978;3.51;0.56;9.4;5                                                                                                                     \n1      7.8;0.88;0;2.6;0.098;25;67;0.9968;3.2;0.68;9.8;5                                                                                                                     \n2     7.8;0.76;0.04;2.3;0.092;15;54;0.997;3.26;0.65;...                                                                                                                     \n3     11.2;0.28;0.56;1.9;0.075;17;60;0.998;3.16;0.58...                                                                                                                     \n4      7.4;0.7;0;1.9;0.076;11;34;0.9978;3.51;0.56;9.4;5                                                                                                                     \n...                                                 ...                                                                                                                     \n4893  6.2;0.21;0.29;1.6;0.039;24;92;0.99114;3.27;0.5...                                                                                                                     \n4894  6.6;0.32;0.36;8;0.047;57;168;0.9949;3.15;0.46;...                                                                                                                     \n4895  6.5;0.24;0.19;1.2;0.041;30;111;0.99254;2.99;0....                                                                                                                     \n4896  5.5;0.29;0.3;1.1;0.022;20;110;0.98869;3.34;0.3...                                                                                                                     \n4897  6;0.21;0.38;0.8;0.02;22;98;0.98941;3.26;0.32;1...                                                                                                                     \n\n[6497 rows x 1 columns]\n0       1\n1       1\n2       1\n3       1\n4       1\n       ..\n4893    0\n4894    0\n4895    0\n4896    0\n4897    0\nName: is_red, Length: 6497, dtype: int64\n"
     ]
    }
   ],
   "source": [
    "data_features = data.iloc[:,:-1]\n",
    "data_classifier = data.iloc[:,-1]\n",
    "\n",
    "print(data_features)\n",
    "print(data_classifier)"
   ]
  },
  {
   "cell_type": "code",
   "execution_count": 0,
   "metadata": {
    "application/vnd.databricks.v1+cell": {
     "cellMetadata": {
      "byteLimit": 2048000,
      "rowLimit": 10000
     },
     "inputWidgets": {},
     "nuid": "438cfb13-584b-4cf1-babc-46f21f9036c9",
     "showTitle": false,
     "tableResultSettingsMap": {},
     "title": ""
    }
   },
   "outputs": [
    {
     "output_type": "stream",
     "name": "stdout",
     "output_type": "stream",
     "text": [
      "['fixed_acidity', 'volatile_acidity', 'citric_acid', 'residual_sugar', 'chlorides', 'free_sulfur_dioxide', 'total_sulfur_dioxide', 'density', 'pH', 'sulphates', 'alcohol', 'quality', 'is_red']\n"
     ]
    }
   ],
   "source": [
    "new_columns_tmp = []\n",
    "\n",
    "for column_name in data.columns:\n",
    "    new_columns_tmp.append(column_name.split(';'))\n",
    "\n",
    "new_columns = []\n",
    "for column_name in new_columns_tmp:\n",
    "    for name in column_name:\n",
    "        new_columns.append(name.strip('\"'))\n",
    "\n",
    "print(new_columns)\n"
   ]
  },
  {
   "cell_type": "code",
   "execution_count": 0,
   "metadata": {
    "application/vnd.databricks.v1+cell": {
     "cellMetadata": {
      "byteLimit": 2048000,
      "rowLimit": 10000
     },
     "inputWidgets": {},
     "nuid": "8f5693be-8e45-45ab-b7cd-1c0ddedfd626",
     "showTitle": false,
     "tableResultSettingsMap": {},
     "title": ""
    }
   },
   "outputs": [
    {
     "output_type": "stream",
     "name": "stdout",
     "output_type": "stream",
     "text": [
      "     fixed_acidity;\"volatile_acidity\";\"citric_acid\";\"residual_sugar\";\"chlorides\";\"free_sulfur_dioxide\";\"total_sulfur_dioxide\";\"density\";\"pH\";\"sulphates\";\"alcohol\";\"quality\"\n0     [7.4, 0.7, 0, 1.9, 0.076, 11, 34, 0.9978, 3.51...                                                                                                                     \n1     [7.8, 0.88, 0, 2.6, 0.098, 25, 67, 0.9968, 3.2...                                                                                                                     \n2     [7.8, 0.76, 0.04, 2.3, 0.092, 15, 54, 0.997, 3...                                                                                                                     \n3     [11.2, 0.28, 0.56, 1.9, 0.075, 17, 60, 0.998, ...                                                                                                                     \n4     [7.4, 0.7, 0, 1.9, 0.076, 11, 34, 0.9978, 3.51...                                                                                                                     \n...                                                 ...                                                                                                                     \n4893  [6.2, 0.21, 0.29, 1.6, 0.039, 24, 92, 0.99114,...                                                                                                                     \n4894  [6.6, 0.32, 0.36, 8, 0.047, 57, 168, 0.9949, 3...                                                                                                                     \n4895  [6.5, 0.24, 0.19, 1.2, 0.041, 30, 111, 0.99254...                                                                                                                     \n4896  [5.5, 0.29, 0.3, 1.1, 0.022, 20, 110, 0.98869,...                                                                                                                     \n4897  [6, 0.21, 0.38, 0.8, 0.02, 22, 98, 0.98941, 3....                                                                                                                     \n\n[6497 rows x 1 columns]\n"
     ]
    }
   ],
   "source": [
    "tmp_df = data_features.apply(lambda x: x.str.split(';'))\n",
    "print(tmp_df)"
   ]
  },
  {
   "cell_type": "code",
   "execution_count": 0,
   "metadata": {
    "application/vnd.databricks.v1+cell": {
     "cellMetadata": {
      "byteLimit": 2048000,
      "rowLimit": 10000
     },
     "inputWidgets": {},
     "nuid": "95643020-2084-467a-89b3-4f39fd7278d3",
     "showTitle": false,
     "tableResultSettingsMap": {},
     "title": ""
    }
   },
   "outputs": [],
   "source": [
    "data_features_new_columns = pd.DataFrame(columns=new_columns)"
   ]
  },
  {
   "cell_type": "code",
   "execution_count": 0,
   "metadata": {
    "application/vnd.databricks.v1+cell": {
     "cellMetadata": {
      "byteLimit": 2048000,
      "rowLimit": 10000
     },
     "inputWidgets": {},
     "nuid": "153d8d95-eea1-401e-9c3c-daf453f16015",
     "showTitle": false,
     "tableResultSettingsMap": {},
     "title": ""
    }
   },
   "outputs": [
    {
     "output_type": "stream",
     "name": "stderr",
     "output_type": "stream",
     "text": [
      "/home/spark-92050934-baa6-4c29-a7c1-cd/.ipykernel/28686/command-8669217357770439-439007770:4: FutureWarning: Columnar iteration over characters will be deprecated in future releases.\n  tmp = pd.DataFrame(pd.DataFrame(row.str).T.values[0]).T\n/home/spark-92050934-baa6-4c29-a7c1-cd/.ipykernel/28686/command-8669217357770439-439007770:4: FutureWarning: Columnar iteration over characters will be deprecated in future releases.\n  tmp = pd.DataFrame(pd.DataFrame(row.str).T.values[0]).T\n/home/spark-92050934-baa6-4c29-a7c1-cd/.ipykernel/28686/command-8669217357770439-439007770:4: FutureWarning: Columnar iteration over characters will be deprecated in future releases.\n  tmp = pd.DataFrame(pd.DataFrame(row.str).T.values[0]).T\n/home/spark-92050934-baa6-4c29-a7c1-cd/.ipykernel/28686/command-8669217357770439-439007770:4: FutureWarning: Columnar iteration over characters will be deprecated in future releases.\n  tmp = pd.DataFrame(pd.DataFrame(row.str).T.values[0]).T\n/home/spark-92050934-baa6-4c29-a7c1-cd/.ipykernel/28686/command-8669217357770439-439007770:4: FutureWarning: Columnar iteration over characters will be deprecated in future releases.\n  tmp = pd.DataFrame(pd.DataFrame(row.str).T.values[0]).T\n/home/spark-92050934-baa6-4c29-a7c1-cd/.ipykernel/28686/command-8669217357770439-439007770:4: FutureWarning: Columnar iteration over characters will be deprecated in future releases.\n  tmp = pd.DataFrame(pd.DataFrame(row.str).T.values[0]).T\n/home/spark-92050934-baa6-4c29-a7c1-cd/.ipykernel/28686/command-8669217357770439-439007770:4: FutureWarning: Columnar iteration over characters will be deprecated in future releases.\n  tmp = pd.DataFrame(pd.DataFrame(row.str).T.values[0]).T\n/home/spark-92050934-baa6-4c29-a7c1-cd/.ipykernel/28686/command-8669217357770439-439007770:4: FutureWarning: Columnar iteration over characters will be deprecated in future releases.\n  tmp = pd.DataFrame(pd.DataFrame(row.str).T.values[0]).T\n/home/spark-92050934-baa6-4c29-a7c1-cd/.ipykernel/28686/command-8669217357770439-439007770:4: FutureWarning: Columnar iteration over characters will be deprecated in future releases.\n  tmp = pd.DataFrame(pd.DataFrame(row.str).T.values[0]).T\n/home/spark-92050934-baa6-4c29-a7c1-cd/.ipykernel/28686/command-8669217357770439-439007770:4: FutureWarning: Columnar iteration over characters will be deprecated in future releases.\n  tmp = pd.DataFrame(pd.DataFrame(row.str).T.values[0]).T\n/home/spark-92050934-baa6-4c29-a7c1-cd/.ipykernel/28686/command-8669217357770439-439007770:4: FutureWarning: Columnar iteration over characters will be deprecated in future releases.\n  tmp = pd.DataFrame(pd.DataFrame(row.str).T.values[0]).T\n/home/spark-92050934-baa6-4c29-a7c1-cd/.ipykernel/28686/command-8669217357770439-439007770:4: FutureWarning: Columnar iteration over characters will be deprecated in future releases.\n  tmp = pd.DataFrame(pd.DataFrame(row.str).T.values[0]).T\n/home/spark-92050934-baa6-4c29-a7c1-cd/.ipykernel/28686/command-8669217357770439-439007770:4: FutureWarning: Columnar iteration over characters will be deprecated in future releases.\n  tmp = pd.DataFrame(pd.DataFrame(row.str).T.values[0]).T\n/home/spark-92050934-baa6-4c29-a7c1-cd/.ipykernel/28686/command-8669217357770439-439007770:4: FutureWarning: Columnar iteration over characters will be deprecated in future releases.\n  tmp = pd.DataFrame(pd.DataFrame(row.str).T.values[0]).T\n/home/spark-92050934-baa6-4c29-a7c1-cd/.ipykernel/28686/command-8669217357770439-439007770:4: FutureWarning: Columnar iteration over characters will be deprecated in future releases.\n  tmp = pd.DataFrame(pd.DataFrame(row.str).T.values[0]).T\n/home/spark-92050934-baa6-4c29-a7c1-cd/.ipykernel/28686/command-8669217357770439-439007770:4: FutureWarning: Columnar iteration over characters will be deprecated in future releases.\n  tmp = pd.DataFrame(pd.DataFrame(row.str).T.values[0]).T\n/home/spark-92050934-baa6-4c29-a7c1-cd/.ipykernel/28686/command-8669217357770439-439007770:4: FutureWarning: Columnar iteration over characters will be deprecated in future releases.\n  tmp = pd.DataFrame(pd.DataFrame(row.str).T.values[0]).T\n/home/spark-92050934-baa6-4c29-a7c1-cd/.ipykernel/28686/command-8669217357770439-439007770:4: FutureWarning: Columnar iteration over characters will be deprecated in future releases.\n  tmp = pd.DataFrame(pd.DataFrame(row.str).T.values[0]).T\n/home/spark-92050934-baa6-4c29-a7c1-cd/.ipykernel/28686/command-8669217357770439-439007770:4: FutureWarning: Columnar iteration over characters will be deprecated in future releases.\n  tmp = pd.DataFrame(pd.DataFrame(row.str).T.values[0]).T\n/home/spark-92050934-baa6-4c29-a7c1-cd/.ipykernel/28686/command-8669217357770439-439007770:4: FutureWarning: Columnar iteration over characters will be deprecated in future releases.\n  tmp = pd.DataFrame(pd.DataFrame(row.str).T.values[0]).T\n/home/spark-92050934-baa6-4c29-a7c1-cd/.ipykernel/28686/command-8669217357770439-439007770:4: FutureWarning: Columnar iteration over characters will be deprecated in future releases.\n  tmp = pd.DataFrame(pd.DataFrame(row.str).T.values[0]).T\n/home/spark-92050934-baa6-4c29-a7c1-cd/.ipykernel/28686/command-8669217357770439-439007770:4: FutureWarning: Columnar iteration over characters will be deprecated in future releases.\n  tmp = pd.DataFrame(pd.DataFrame(row.str).T.values[0]).T\n/home/spark-92050934-baa6-4c29-a7c1-cd/.ipykernel/28686/command-8669217357770439-439007770:4: FutureWarning: Columnar iteration over characters will be deprecated in future releases.\n  tmp = pd.DataFrame(pd.DataFrame(row.str).T.values[0]).T\n/home/spark-92050934-baa6-4c29-a7c1-cd/.ipykernel/28686/command-8669217357770439-439007770:4: FutureWarning: Columnar iteration over characters will be deprecated in future releases.\n  tmp = pd.DataFrame(pd.DataFrame(row.str).T.values[0]).T\n/home/spark-92050934-baa6-4c29-a7c1-cd/.ipykernel/28686/command-8669217357770439-439007770:4: FutureWarning: Columnar iteration over characters will be deprecated in future releases.\n  tmp = pd.DataFrame(pd.DataFrame(row.str).T.values[0]).T\n/home/spark-92050934-baa6-4c29-a7c1-cd/.ipykernel/28686/command-8669217357770439-439007770:4: FutureWarning: Columnar iteration over characters will be deprecated in future releases.\n  tmp = pd.DataFrame(pd.DataFrame(row.str).T.values[0]).T\n/home/spark-92050934-baa6-4c29-a7c1-cd/.ipykernel/28686/command-8669217357770439-439007770:4: FutureWarning: Columnar iteration over characters will be deprecated in future releases.\n  tmp = pd.DataFrame(pd.DataFrame(row.str).T.values[0]).T\n/home/spark-92050934-baa6-4c29-a7c1-cd/.ipykernel/28686/command-8669217357770439-439007770:4: FutureWarning: Columnar iteration over characters will be deprecated in future releases.\n  tmp = pd.DataFrame(pd.DataFrame(row.str).T.values[0]).T\n/home/spark-92050934-baa6-4c29-a7c1-cd/.ipykernel/28686/command-8669217357770439-439007770:4: FutureWarning: Columnar iteration over characters will be deprecated in future releases.\n  tmp = pd.DataFrame(pd.DataFrame(row.str).T.values[0]).T\n/home/spark-92050934-baa6-4c29-a7c1-cd/.ipykernel/28686/command-8669217357770439-439007770:4: FutureWarning: Columnar iteration over characters will be deprecated in future releases.\n  tmp = pd.DataFrame(pd.DataFrame(row.str).T.values[0]).T\n/home/spark-92050934-baa6-4c29-a7c1-cd/.ipykernel/28686/command-8669217357770439-439007770:4: FutureWarning: Columnar iteration over characters will be deprecated in future releases.\n  tmp = pd.DataFrame(pd.DataFrame(row.str).T.values[0]).T\n/home/spark-92050934-baa6-4c29-a7c1-cd/.ipykernel/28686/command-8669217357770439-439007770:4: FutureWarning: Columnar iteration over characters will be deprecated in future releases.\n  tmp = pd.DataFrame(pd.DataFrame(row.str).T.values[0]).T\n/home/spark-92050934-baa6-4c29-a7c1-cd/.ipykernel/28686/command-8669217357770439-439007770:4: FutureWarning: Columnar iteration over characters will be deprecated in future releases.\n  tmp = pd.DataFrame(pd.DataFrame(row.str).T.values[0]).T\n/home/spark-92050934-baa6-4c29-a7c1-cd/.ipykernel/28686/command-8669217357770439-439007770:4: FutureWarning: Columnar iteration over characters will be deprecated in future releases.\n  tmp = pd.DataFrame(pd.DataFrame(row.str).T.values[0]).T\n/home/spark-92050934-baa6-4c29-a7c1-cd/.ipykernel/28686/command-8669217357770439-439007770:4: FutureWarning: Columnar iteration over characters will be deprecated in future releases.\n  tmp = pd.DataFrame(pd.DataFrame(row.str).T.values[0]).T\n/home/spark-92050934-baa6-4c29-a7c1-cd/.ipykernel/28686/command-8669217357770439-439007770:4: FutureWarning: Columnar iteration over characters will be deprecated in future releases.\n  tmp = pd.DataFrame(pd.DataFrame(row.str).T.values[0]).T\n/home/spark-92050934-baa6-4c29-a7c1-cd/.ipykernel/28686/command-8669217357770439-439007770:4: FutureWarning: Columnar iteration over characters will be deprecated in future releases.\n  tmp = pd.DataFrame(pd.DataFrame(row.str).T.values[0]).T\n/home/spark-92050934-baa6-4c29-a7c1-cd/.ipykernel/28686/command-8669217357770439-439007770:4: FutureWarning: Columnar iteration over characters will be deprecated in future releases.\n  tmp = pd.DataFrame(pd.DataFrame(row.str).T.values[0]).T\n/home/spark-92050934-baa6-4c29-a7c1-cd/.ipykernel/28686/command-8669217357770439-439007770:4: FutureWarning: Columnar iteration over characters will be deprecated in future releases.\n  tmp = pd.DataFrame(pd.DataFrame(row.str).T.values[0]).T\n/home/spark-92050934-baa6-4c29-a7c1-cd/.ipykernel/28686/command-8669217357770439-439007770:4: FutureWarning: Columnar iteration over characters will be deprecated in future releases.\n  tmp = pd.DataFrame(pd.DataFrame(row.str).T.values[0]).T\n/home/spark-92050934-baa6-4c29-a7c1-cd/.ipykernel/28686/command-8669217357770439-439007770:4: FutureWarning: Columnar iteration over characters will be deprecated in future releases.\n  tmp = pd.DataFrame(pd.DataFrame(row.str).T.values[0]).T\n/home/spark-92050934-baa6-4c29-a7c1-cd/.ipykernel/28686/command-8669217357770439-439007770:4: FutureWarning: Columnar iteration over characters will be deprecated in future releases.\n  tmp = pd.DataFrame(pd.DataFrame(row.str).T.values[0]).T\n/home/spark-92050934-baa6-4c29-a7c1-cd/.ipykernel/28686/command-8669217357770439-439007770:4: FutureWarning: Columnar iteration over characters will be deprecated in future releases.\n  tmp = pd.DataFrame(pd.DataFrame(row.str).T.values[0]).T\n/home/spark-92050934-baa6-4c29-a7c1-cd/.ipykernel/28686/command-8669217357770439-439007770:4: FutureWarning: Columnar iteration over characters will be deprecated in future releases.\n  tmp = pd.DataFrame(pd.DataFrame(row.str).T.values[0]).T\n/home/spark-92050934-baa6-4c29-a7c1-cd/.ipykernel/28686/command-8669217357770439-439007770:4: FutureWarning: Columnar iteration over characters will be deprecated in future releases.\n  tmp = pd.DataFrame(pd.DataFrame(row.str).T.values[0]).T\n/home/spark-92050934-baa6-4c29-a7c1-cd/.ipykernel/28686/command-8669217357770439-439007770:4: FutureWarning: Columnar iteration over characters will be deprecated in future releases.\n  tmp = pd.DataFrame(pd.DataFrame(row.str).T.values[0]).T\n/home/spark-92050934-baa6-4c29-a7c1-cd/.ipykernel/28686/command-8669217357770439-439007770:4: FutureWarning: Columnar iteration over characters will be deprecated in future releases.\n  tmp = pd.DataFrame(pd.DataFrame(row.str).T.values[0]).T\n/home/spark-92050934-baa6-4c29-a7c1-cd/.ipykernel/28686/command-8669217357770439-439007770:4: FutureWarning: Columnar iteration over characters will be deprecated in future releases.\n  tmp = pd.DataFrame(pd.DataFrame(row.str).T.values[0]).T\n/home/spark-92050934-baa6-4c29-a7c1-cd/.ipykernel/28686/command-8669217357770439-439007770:4: FutureWarning: Columnar iteration over characters will be deprecated in future releases.\n  tmp = pd.DataFrame(pd.DataFrame(row.str).T.values[0]).T\n/home/spark-92050934-baa6-4c29-a7c1-cd/.ipykernel/28686/command-8669217357770439-439007770:4: FutureWarning: Columnar iteration over characters will be deprecated in future releases.\n  tmp = pd.DataFrame(pd.DataFrame(row.str).T.values[0]).T\n/home/spark-92050934-baa6-4c29-a7c1-cd/.ipykernel/28686/command-8669217357770439-439007770:4: FutureWarning: Columnar iteration over characters will be deprecated in future releases.\n  tmp = pd.DataFrame(pd.DataFrame(row.str).T.values[0]).T\n/home/spark-92050934-baa6-4c29-a7c1-cd/.ipykernel/28686/command-8669217357770439-439007770:4: FutureWarning: Columnar iteration over characters will be deprecated in future releases.\n  tmp = pd.DataFrame(pd.DataFrame(row.str).T.values[0]).T\n/home/spark-92050934-baa6-4c29-a7c1-cd/.ipykernel/28686/command-8669217357770439-439007770:4: FutureWarning: Columnar iteration over characters will be deprecated in future releases.\n  tmp = pd.DataFrame(pd.DataFrame(row.str).T.values[0]).T\n/home/spark-92050934-baa6-4c29-a7c1-cd/.ipykernel/28686/command-8669217357770439-439007770:4: FutureWarning: Columnar iteration over characters will be deprecated in future releases.\n  tmp = pd.DataFrame(pd.DataFrame(row.str).T.values[0]).T\n/home/spark-92050934-baa6-4c29-a7c1-cd/.ipykernel/28686/command-8669217357770439-439007770:4: FutureWarning: Columnar iteration over characters will be deprecated in future releases.\n  tmp = pd.DataFrame(pd.DataFrame(row.str).T.values[0]).T\n/home/spark-92050934-baa6-4c29-a7c1-cd/.ipykernel/28686/command-8669217357770439-439007770:4: FutureWarning: Columnar iteration over characters will be deprecated in future releases.\n  tmp = pd.DataFrame(pd.DataFrame(row.str).T.values[0]).T\n/home/spark-92050934-baa6-4c29-a7c1-cd/.ipykernel/28686/command-8669217357770439-439007770:4: FutureWarning: Columnar iteration over characters will be deprecated in future releases.\n  tmp = pd.DataFrame(pd.DataFrame(row.str).T.values[0]).T\n/home/spark-92050934-baa6-4c29-a7c1-cd/.ipykernel/28686/command-8669217357770439-439007770:4: FutureWarning: Columnar iteration over characters will be deprecated in future releases.\n  tmp = pd.DataFrame(pd.DataFrame(row.str).T.values[0]).T\n/home/spark-92050934-baa6-4c29-a7c1-cd/.ipykernel/28686/command-8669217357770439-439007770:4: FutureWarning: Columnar iteration over characters will be deprecated in future releases.\n  tmp = pd.DataFrame(pd.DataFrame(row.str).T.values[0]).T\n/home/spark-92050934-baa6-4c29-a7c1-cd/.ipykernel/28686/command-8669217357770439-439007770:4: FutureWarning: Columnar iteration over characters will be deprecated in future releases.\n  tmp = pd.DataFrame(pd.DataFrame(row.str).T.values[0]).T\n/home/spark-92050934-baa6-4c29-a7c1-cd/.ipykernel/28686/command-8669217357770439-439007770:4: FutureWarning: Columnar iteration over characters will be deprecated in future releases.\n  tmp = pd.DataFrame(pd.DataFrame(row.str).T.values[0]).T\n/home/spark-92050934-baa6-4c29-a7c1-cd/.ipykernel/28686/command-8669217357770439-439007770:4: FutureWarning: Columnar iteration over characters will be deprecated in future releases.\n  tmp = pd.DataFrame(pd.DataFrame(row.str).T.values[0]).T\n/home/spark-92050934-baa6-4c29-a7c1-cd/.ipykernel/28686/command-8669217357770439-439007770:4: FutureWarning: Columnar iteration over characters will be deprecated in future releases.\n  tmp = pd.DataFrame(pd.DataFrame(row.str).T.values[0]).T\n/home/spark-92050934-baa6-4c29-a7c1-cd/.ipykernel/28686/command-8669217357770439-439007770:4: FutureWarning: Columnar iteration over characters will be deprecated in future releases.\n  tmp = pd.DataFrame(pd.DataFrame(row.str).T.values[0]).T\n/home/spark-92050934-baa6-4c29-a7c1-cd/.ipykernel/28686/command-8669217357770439-439007770:4: FutureWarning: Columnar iteration over characters will be deprecated in future releases.\n  tmp = pd.DataFrame(pd.DataFrame(row.str).T.values[0]).T\n/home/spark-92050934-baa6-4c29-a7c1-cd/.ipykernel/28686/command-8669217357770439-439007770:4: FutureWarning: Columnar iteration over characters will be deprecated in future releases.\n  tmp = pd.DataFrame(pd.DataFrame(row.str).T.values[0]).T\n/home/spark-92050934-baa6-4c29-a7c1-cd/.ipykernel/28686/command-8669217357770439-439007770:4: FutureWarning: Columnar iteration over characters will be deprecated in future releases.\n  tmp = pd.DataFrame(pd.DataFrame(row.str).T.values[0]).T\n/home/spark-92050934-baa6-4c29-a7c1-cd/.ipykernel/28686/command-8669217357770439-439007770:4: FutureWarning: Columnar iteration over characters will be deprecated in future releases.\n  tmp = pd.DataFrame(pd.DataFrame(row.str).T.values[0]).T\n/home/spark-92050934-baa6-4c29-a7c1-cd/.ipykernel/28686/command-8669217357770439-439007770:4: FutureWarning: Columnar iteration over characters will be deprecated in future releases.\n  tmp = pd.DataFrame(pd.DataFrame(row.str).T.values[0]).T\n/home/spark-92050934-baa6-4c29-a7c1-cd/.ipykernel/28686/command-8669217357770439-439007770:4: FutureWarning: Columnar iteration over characters will be deprecated in future releases.\n  tmp = pd.DataFrame(pd.DataFrame(row.str).T.values[0]).T\n/home/spark-92050934-baa6-4c29-a7c1-cd/.ipykernel/28686/command-8669217357770439-439007770:4: FutureWarning: Columnar iteration over characters will be deprecated in future releases.\n  tmp = pd.DataFrame(pd.DataFrame(row.str).T.values[0]).T\n/home/spark-92050934-baa6-4c29-a7c1-cd/.ipykernel/28686/command-8669217357770439-439007770:4: FutureWarning: Columnar iteration over characters will be deprecated in future releases.\n  tmp = pd.DataFrame(pd.DataFrame(row.str).T.values[0]).T\n/home/spark-92050934-baa6-4c29-a7c1-cd/.ipykernel/28686/command-8669217357770439-439007770:4: FutureWarning: Columnar iteration over characters will be deprecated in future releases.\n  tmp = pd.DataFrame(pd.DataFrame(row.str).T.values[0]).T\n/home/spark-92050934-baa6-4c29-a7c1-cd/.ipykernel/28686/command-8669217357770439-439007770:4: FutureWarning: Columnar iteration over characters will be deprecated in future releases.\n  tmp = pd.DataFrame(pd.DataFrame(row.str).T.values[0]).T\n/home/spark-92050934-baa6-4c29-a7c1-cd/.ipykernel/28686/command-8669217357770439-439007770:4: FutureWarning: Columnar iteration over characters will be deprecated in future releases.\n  tmp = pd.DataFrame(pd.DataFrame(row.str).T.values[0]).T\n/home/spark-92050934-baa6-4c29-a7c1-cd/.ipykernel/28686/command-8669217357770439-439007770:4: FutureWarning: Columnar iteration over characters will be deprecated in future releases.\n  tmp = pd.DataFrame(pd.DataFrame(row.str).T.values[0]).T\n/home/spark-92050934-baa6-4c29-a7c1-cd/.ipykernel/28686/command-8669217357770439-439007770:4: FutureWarning: Columnar iteration over characters will be deprecated in future releases.\n  tmp = pd.DataFrame(pd.DataFrame(row.str).T.values[0]).T\n/home/spark-92050934-baa6-4c29-a7c1-cd/.ipykernel/28686/command-8669217357770439-439007770:4: FutureWarning: Columnar iteration over characters will be deprecated in future releases.\n  tmp = pd.DataFrame(pd.DataFrame(row.str).T.values[0]).T\n/home/spark-92050934-baa6-4c29-a7c1-cd/.ipykernel/28686/command-8669217357770439-439007770:4: FutureWarning: Columnar iteration over characters will be deprecated in future releases.\n  tmp = pd.DataFrame(pd.DataFrame(row.str).T.values[0]).T\n/home/spark-92050934-baa6-4c29-a7c1-cd/.ipykernel/28686/command-8669217357770439-439007770:4: FutureWarning: Columnar iteration over characters will be deprecated in future releases.\n  tmp = pd.DataFrame(pd.DataFrame(row.str).T.values[0]).T\n/home/spark-92050934-baa6-4c29-a7c1-cd/.ipykernel/28686/command-8669217357770439-439007770:4: FutureWarning: Columnar iteration over characters will be deprecated in future releases.\n  tmp = pd.DataFrame(pd.DataFrame(row.str).T.values[0]).T\n/home/spark-92050934-baa6-4c29-a7c1-cd/.ipykernel/28686/command-8669217357770439-439007770:4: FutureWarning: Columnar iteration over characters will be deprecated in future releases.\n  tmp = pd.DataFrame(pd.DataFrame(row.str).T.values[0]).T\n/home/spark-92050934-baa6-4c29-a7c1-cd/.ipykernel/28686/command-8669217357770439-439007770:4: FutureWarning: Columnar iteration over characters will be deprecated in future releases.\n  tmp = pd.DataFrame(pd.DataFrame(row.str).T.values[0]).T\n/home/spark-92050934-baa6-4c29-a7c1-cd/.ipykernel/28686/command-8669217357770439-439007770:4: FutureWarning: Columnar iteration over characters will be deprecated in future releases.\n  tmp = pd.DataFrame(pd.DataFrame(row.str).T.values[0]).T\n/home/spark-92050934-baa6-4c29-a7c1-cd/.ipykernel/28686/command-8669217357770439-439007770:4: FutureWarning: Columnar iteration over characters will be deprecated in future releases.\n  tmp = pd.DataFrame(pd.DataFrame(row.str).T.values[0]).T\n/home/spark-92050934-baa6-4c29-a7c1-cd/.ipykernel/28686/command-8669217357770439-439007770:4: FutureWarning: Columnar iteration over characters will be deprecated in future releases.\n  tmp = pd.DataFrame(pd.DataFrame(row.str).T.values[0]).T\n/home/spark-92050934-baa6-4c29-a7c1-cd/.ipykernel/28686/command-8669217357770439-439007770:4: FutureWarning: Columnar iteration over characters will be deprecated in future releases.\n  tmp = pd.DataFrame(pd.DataFrame(row.str).T.values[0]).T\n/home/spark-92050934-baa6-4c29-a7c1-cd/.ipykernel/28686/command-8669217357770439-439007770:4: FutureWarning: Columnar iteration over characters will be deprecated in future releases.\n  tmp = pd.DataFrame(pd.DataFrame(row.str).T.values[0]).T\n/home/spark-92050934-baa6-4c29-a7c1-cd/.ipykernel/28686/command-8669217357770439-439007770:4: FutureWarning: Columnar iteration over characters will be deprecated in future releases.\n  tmp = pd.DataFrame(pd.DataFrame(row.str).T.values[0]).T\n/home/spark-92050934-baa6-4c29-a7c1-cd/.ipykernel/28686/command-8669217357770439-439007770:4: FutureWarning: Columnar iteration over characters will be deprecated in future releases.\n  tmp = pd.DataFrame(pd.DataFrame(row.str).T.values[0]).T\n/home/spark-92050934-baa6-4c29-a7c1-cd/.ipykernel/28686/command-8669217357770439-439007770:4: FutureWarning: Columnar iteration over characters will be deprecated in future releases.\n  tmp = pd.DataFrame(pd.DataFrame(row.str).T.values[0]).T\n/home/spark-92050934-baa6-4c29-a7c1-cd/.ipykernel/28686/command-8669217357770439-439007770:4: FutureWarning: Columnar iteration over characters will be deprecated in future releases.\n  tmp = pd.DataFrame(pd.DataFrame(row.str).T.values[0]).T\n/home/spark-92050934-baa6-4c29-a7c1-cd/.ipykernel/28686/command-8669217357770439-439007770:4: FutureWarning: Columnar iteration over characters will be deprecated in future releases.\n  tmp = pd.DataFrame(pd.DataFrame(row.str).T.values[0]).T\n/home/spark-92050934-baa6-4c29-a7c1-cd/.ipykernel/28686/command-8669217357770439-439007770:4: FutureWarning: Columnar iteration over characters will be deprecated in future releases.\n  tmp = pd.DataFrame(pd.DataFrame(row.str).T.values[0]).T\n/home/spark-92050934-baa6-4c29-a7c1-cd/.ipykernel/28686/command-8669217357770439-439007770:4: FutureWarning: Columnar iteration over characters will be deprecated in future releases.\n  tmp = pd.DataFrame(pd.DataFrame(row.str).T.values[0]).T\n/home/spark-92050934-baa6-4c29-a7c1-cd/.ipykernel/28686/command-8669217357770439-439007770:4: FutureWarning: Columnar iteration over characters will be deprecated in future releases.\n  tmp = pd.DataFrame(pd.DataFrame(row.str).T.values[0]).T\n/home/spark-92050934-baa6-4c29-a7c1-cd/.ipykernel/28686/command-8669217357770439-439007770:4: FutureWarning: Columnar iteration over characters will be deprecated in future releases.\n  tmp = pd.DataFrame(pd.DataFrame(row.str).T.values[0]).T\n/home/spark-92050934-baa6-4c29-a7c1-cd/.ipykernel/28686/command-8669217357770439-439007770:4: FutureWarning: Columnar iteration over characters will be deprecated in future releases.\n  tmp = pd.DataFrame(pd.DataFrame(row.str).T.values[0]).T\n/home/spark-92050934-baa6-4c29-a7c1-cd/.ipykernel/28686/command-8669217357770439-439007770:4: FutureWarning: Columnar iteration over characters will be deprecated in future releases.\n  tmp = pd.DataFrame(pd.DataFrame(row.str).T.values[0]).T\n/home/spark-92050934-baa6-4c29-a7c1-cd/.ipykernel/28686/command-8669217357770439-439007770:4: FutureWarning: Columnar iteration over characters will be deprecated in future releases.\n  tmp = pd.DataFrame(pd.DataFrame(row.str).T.values[0]).T\n/home/spark-92050934-baa6-4c29-a7c1-cd/.ipykernel/28686/command-8669217357770439-439007770:4: FutureWarning: Columnar iteration over characters will be deprecated in future releases.\n  tmp = pd.DataFrame(pd.DataFrame(row.str).T.values[0]).T\n/home/spark-92050934-baa6-4c29-a7c1-cd/.ipykernel/28686/command-8669217357770439-439007770:4: FutureWarning: Columnar iteration over characters will be deprecated in future releases.\n  tmp = pd.DataFrame(pd.DataFrame(row.str).T.values[0]).T\n/home/spark-92050934-baa6-4c29-a7c1-cd/.ipykernel/28686/command-8669217357770439-439007770:4: FutureWarning: Columnar iteration over characters will be deprecated in future releases.\n  tmp = pd.DataFrame(pd.DataFrame(row.str).T.values[0]).T\n/home/spark-92050934-baa6-4c29-a7c1-cd/.ipykernel/28686/command-8669217357770439-439007770:4: FutureWarning: Columnar iteration over characters will be deprecated in future rele\n\n*** WARNING: max output size exceeded, skipping output. ***\n\n8669217357770439-439007770:4: FutureWarning: Columnar iteration over characters will be deprecated in future releases.\n  tmp = pd.DataFrame(pd.DataFrame(row.str).T.values[0]).T\n/home/spark-92050934-baa6-4c29-a7c1-cd/.ipykernel/28686/command-8669217357770439-439007770:4: FutureWarning: Columnar iteration over characters will be deprecated in future releases.\n  tmp = pd.DataFrame(pd.DataFrame(row.str).T.values[0]).T\n/home/spark-92050934-baa6-4c29-a7c1-cd/.ipykernel/28686/command-8669217357770439-439007770:4: FutureWarning: Columnar iteration over characters will be deprecated in future releases.\n  tmp = pd.DataFrame(pd.DataFrame(row.str).T.values[0]).T\n/home/spark-92050934-baa6-4c29-a7c1-cd/.ipykernel/28686/command-8669217357770439-439007770:4: FutureWarning: Columnar iteration over characters will be deprecated in future releases.\n  tmp = pd.DataFrame(pd.DataFrame(row.str).T.values[0]).T\n/home/spark-92050934-baa6-4c29-a7c1-cd/.ipykernel/28686/command-8669217357770439-439007770:4: FutureWarning: Columnar iteration over characters will be deprecated in future releases.\n  tmp = pd.DataFrame(pd.DataFrame(row.str).T.values[0]).T\n/home/spark-92050934-baa6-4c29-a7c1-cd/.ipykernel/28686/command-8669217357770439-439007770:4: FutureWarning: Columnar iteration over characters will be deprecated in future releases.\n  tmp = pd.DataFrame(pd.DataFrame(row.str).T.values[0]).T\n/home/spark-92050934-baa6-4c29-a7c1-cd/.ipykernel/28686/command-8669217357770439-439007770:4: FutureWarning: Columnar iteration over characters will be deprecated in future releases.\n  tmp = pd.DataFrame(pd.DataFrame(row.str).T.values[0]).T\n/home/spark-92050934-baa6-4c29-a7c1-cd/.ipykernel/28686/command-8669217357770439-439007770:4: FutureWarning: Columnar iteration over characters will be deprecated in future releases.\n  tmp = pd.DataFrame(pd.DataFrame(row.str).T.values[0]).T\n/home/spark-92050934-baa6-4c29-a7c1-cd/.ipykernel/28686/command-8669217357770439-439007770:4: FutureWarning: Columnar iteration over characters will be deprecated in future releases.\n  tmp = pd.DataFrame(pd.DataFrame(row.str).T.values[0]).T\n/home/spark-92050934-baa6-4c29-a7c1-cd/.ipykernel/28686/command-8669217357770439-439007770:4: FutureWarning: Columnar iteration over characters will be deprecated in future releases.\n  tmp = pd.DataFrame(pd.DataFrame(row.str).T.values[0]).T\n/home/spark-92050934-baa6-4c29-a7c1-cd/.ipykernel/28686/command-8669217357770439-439007770:4: FutureWarning: Columnar iteration over characters will be deprecated in future releases.\n  tmp = pd.DataFrame(pd.DataFrame(row.str).T.values[0]).T\n/home/spark-92050934-baa6-4c29-a7c1-cd/.ipykernel/28686/command-8669217357770439-439007770:4: FutureWarning: Columnar iteration over characters will be deprecated in future releases.\n  tmp = pd.DataFrame(pd.DataFrame(row.str).T.values[0]).T\n/home/spark-92050934-baa6-4c29-a7c1-cd/.ipykernel/28686/command-8669217357770439-439007770:4: FutureWarning: Columnar iteration over characters will be deprecated in future releases.\n  tmp = pd.DataFrame(pd.DataFrame(row.str).T.values[0]).T\n/home/spark-92050934-baa6-4c29-a7c1-cd/.ipykernel/28686/command-8669217357770439-439007770:4: FutureWarning: Columnar iteration over characters will be deprecated in future releases.\n  tmp = pd.DataFrame(pd.DataFrame(row.str).T.values[0]).T\n/home/spark-92050934-baa6-4c29-a7c1-cd/.ipykernel/28686/command-8669217357770439-439007770:4: FutureWarning: Columnar iteration over characters will be deprecated in future releases.\n  tmp = pd.DataFrame(pd.DataFrame(row.str).T.values[0]).T\n/home/spark-92050934-baa6-4c29-a7c1-cd/.ipykernel/28686/command-8669217357770439-439007770:4: FutureWarning: Columnar iteration over characters will be deprecated in future releases.\n  tmp = pd.DataFrame(pd.DataFrame(row.str).T.values[0]).T\n/home/spark-92050934-baa6-4c29-a7c1-cd/.ipykernel/28686/command-8669217357770439-439007770:4: FutureWarning: Columnar iteration over characters will be deprecated in future releases.\n  tmp = pd.DataFrame(pd.DataFrame(row.str).T.values[0]).T\n/home/spark-92050934-baa6-4c29-a7c1-cd/.ipykernel/28686/command-8669217357770439-439007770:4: FutureWarning: Columnar iteration over characters will be deprecated in future releases.\n  tmp = pd.DataFrame(pd.DataFrame(row.str).T.values[0]).T\n/home/spark-92050934-baa6-4c29-a7c1-cd/.ipykernel/28686/command-8669217357770439-439007770:4: FutureWarning: Columnar iteration over characters will be deprecated in future releases.\n  tmp = pd.DataFrame(pd.DataFrame(row.str).T.values[0]).T\n/home/spark-92050934-baa6-4c29-a7c1-cd/.ipykernel/28686/command-8669217357770439-439007770:4: FutureWarning: Columnar iteration over characters will be deprecated in future releases.\n  tmp = pd.DataFrame(pd.DataFrame(row.str).T.values[0]).T\n/home/spark-92050934-baa6-4c29-a7c1-cd/.ipykernel/28686/command-8669217357770439-439007770:4: FutureWarning: Columnar iteration over characters will be deprecated in future releases.\n  tmp = pd.DataFrame(pd.DataFrame(row.str).T.values[0]).T\n/home/spark-92050934-baa6-4c29-a7c1-cd/.ipykernel/28686/command-8669217357770439-439007770:4: FutureWarning: Columnar iteration over characters will be deprecated in future releases.\n  tmp = pd.DataFrame(pd.DataFrame(row.str).T.values[0]).T\n/home/spark-92050934-baa6-4c29-a7c1-cd/.ipykernel/28686/command-8669217357770439-439007770:4: FutureWarning: Columnar iteration over characters will be deprecated in future releases.\n  tmp = pd.DataFrame(pd.DataFrame(row.str).T.values[0]).T\n/home/spark-92050934-baa6-4c29-a7c1-cd/.ipykernel/28686/command-8669217357770439-439007770:4: FutureWarning: Columnar iteration over characters will be deprecated in future releases.\n  tmp = pd.DataFrame(pd.DataFrame(row.str).T.values[0]).T\n/home/spark-92050934-baa6-4c29-a7c1-cd/.ipykernel/28686/command-8669217357770439-439007770:4: FutureWarning: Columnar iteration over characters will be deprecated in future releases.\n  tmp = pd.DataFrame(pd.DataFrame(row.str).T.values[0]).T\n/home/spark-92050934-baa6-4c29-a7c1-cd/.ipykernel/28686/command-8669217357770439-439007770:4: FutureWarning: Columnar iteration over characters will be deprecated in future releases.\n  tmp = pd.DataFrame(pd.DataFrame(row.str).T.values[0]).T\n/home/spark-92050934-baa6-4c29-a7c1-cd/.ipykernel/28686/command-8669217357770439-439007770:4: FutureWarning: Columnar iteration over characters will be deprecated in future releases.\n  tmp = pd.DataFrame(pd.DataFrame(row.str).T.values[0]).T\n/home/spark-92050934-baa6-4c29-a7c1-cd/.ipykernel/28686/command-8669217357770439-439007770:4: FutureWarning: Columnar iteration over characters will be deprecated in future releases.\n  tmp = pd.DataFrame(pd.DataFrame(row.str).T.values[0]).T\n/home/spark-92050934-baa6-4c29-a7c1-cd/.ipykernel/28686/command-8669217357770439-439007770:4: FutureWarning: Columnar iteration over characters will be deprecated in future releases.\n  tmp = pd.DataFrame(pd.DataFrame(row.str).T.values[0]).T\n/home/spark-92050934-baa6-4c29-a7c1-cd/.ipykernel/28686/command-8669217357770439-439007770:4: FutureWarning: Columnar iteration over characters will be deprecated in future releases.\n  tmp = pd.DataFrame(pd.DataFrame(row.str).T.values[0]).T\n/home/spark-92050934-baa6-4c29-a7c1-cd/.ipykernel/28686/command-8669217357770439-439007770:4: FutureWarning: Columnar iteration over characters will be deprecated in future releases.\n  tmp = pd.DataFrame(pd.DataFrame(row.str).T.values[0]).T\n/home/spark-92050934-baa6-4c29-a7c1-cd/.ipykernel/28686/command-8669217357770439-439007770:4: FutureWarning: Columnar iteration over characters will be deprecated in future releases.\n  tmp = pd.DataFrame(pd.DataFrame(row.str).T.values[0]).T\n/home/spark-92050934-baa6-4c29-a7c1-cd/.ipykernel/28686/command-8669217357770439-439007770:4: FutureWarning: Columnar iteration over characters will be deprecated in future releases.\n  tmp = pd.DataFrame(pd.DataFrame(row.str).T.values[0]).T\n/home/spark-92050934-baa6-4c29-a7c1-cd/.ipykernel/28686/command-8669217357770439-439007770:4: FutureWarning: Columnar iteration over characters will be deprecated in future releases.\n  tmp = pd.DataFrame(pd.DataFrame(row.str).T.values[0]).T\n/home/spark-92050934-baa6-4c29-a7c1-cd/.ipykernel/28686/command-8669217357770439-439007770:4: FutureWarning: Columnar iteration over characters will be deprecated in future releases.\n  tmp = pd.DataFrame(pd.DataFrame(row.str).T.values[0]).T\n/home/spark-92050934-baa6-4c29-a7c1-cd/.ipykernel/28686/command-8669217357770439-439007770:4: FutureWarning: Columnar iteration over characters will be deprecated in future releases.\n  tmp = pd.DataFrame(pd.DataFrame(row.str).T.values[0]).T\n/home/spark-92050934-baa6-4c29-a7c1-cd/.ipykernel/28686/command-8669217357770439-439007770:4: FutureWarning: Columnar iteration over characters will be deprecated in future releases.\n  tmp = pd.DataFrame(pd.DataFrame(row.str).T.values[0]).T\n/home/spark-92050934-baa6-4c29-a7c1-cd/.ipykernel/28686/command-8669217357770439-439007770:4: FutureWarning: Columnar iteration over characters will be deprecated in future releases.\n  tmp = pd.DataFrame(pd.DataFrame(row.str).T.values[0]).T\n/home/spark-92050934-baa6-4c29-a7c1-cd/.ipykernel/28686/command-8669217357770439-439007770:4: FutureWarning: Columnar iteration over characters will be deprecated in future releases.\n  tmp = pd.DataFrame(pd.DataFrame(row.str).T.values[0]).T\n/home/spark-92050934-baa6-4c29-a7c1-cd/.ipykernel/28686/command-8669217357770439-439007770:4: FutureWarning: Columnar iteration over characters will be deprecated in future releases.\n  tmp = pd.DataFrame(pd.DataFrame(row.str).T.values[0]).T\n/home/spark-92050934-baa6-4c29-a7c1-cd/.ipykernel/28686/command-8669217357770439-439007770:4: FutureWarning: Columnar iteration over characters will be deprecated in future releases.\n  tmp = pd.DataFrame(pd.DataFrame(row.str).T.values[0]).T\n/home/spark-92050934-baa6-4c29-a7c1-cd/.ipykernel/28686/command-8669217357770439-439007770:4: FutureWarning: Columnar iteration over characters will be deprecated in future releases.\n  tmp = pd.DataFrame(pd.DataFrame(row.str).T.values[0]).T\n/home/spark-92050934-baa6-4c29-a7c1-cd/.ipykernel/28686/command-8669217357770439-439007770:4: FutureWarning: Columnar iteration over characters will be deprecated in future releases.\n  tmp = pd.DataFrame(pd.DataFrame(row.str).T.values[0]).T\n/home/spark-92050934-baa6-4c29-a7c1-cd/.ipykernel/28686/command-8669217357770439-439007770:4: FutureWarning: Columnar iteration over characters will be deprecated in future releases.\n  tmp = pd.DataFrame(pd.DataFrame(row.str).T.values[0]).T\n/home/spark-92050934-baa6-4c29-a7c1-cd/.ipykernel/28686/command-8669217357770439-439007770:4: FutureWarning: Columnar iteration over characters will be deprecated in future releases.\n  tmp = pd.DataFrame(pd.DataFrame(row.str).T.values[0]).T\n/home/spark-92050934-baa6-4c29-a7c1-cd/.ipykernel/28686/command-8669217357770439-439007770:4: FutureWarning: Columnar iteration over characters will be deprecated in future releases.\n  tmp = pd.DataFrame(pd.DataFrame(row.str).T.values[0]).T\n/home/spark-92050934-baa6-4c29-a7c1-cd/.ipykernel/28686/command-8669217357770439-439007770:4: FutureWarning: Columnar iteration over characters will be deprecated in future releases.\n  tmp = pd.DataFrame(pd.DataFrame(row.str).T.values[0]).T\n/home/spark-92050934-baa6-4c29-a7c1-cd/.ipykernel/28686/command-8669217357770439-439007770:4: FutureWarning: Columnar iteration over characters will be deprecated in future releases.\n  tmp = pd.DataFrame(pd.DataFrame(row.str).T.values[0]).T\n/home/spark-92050934-baa6-4c29-a7c1-cd/.ipykernel/28686/command-8669217357770439-439007770:4: FutureWarning: Columnar iteration over characters will be deprecated in future releases.\n  tmp = pd.DataFrame(pd.DataFrame(row.str).T.values[0]).T\n/home/spark-92050934-baa6-4c29-a7c1-cd/.ipykernel/28686/command-8669217357770439-439007770:4: FutureWarning: Columnar iteration over characters will be deprecated in future releases.\n  tmp = pd.DataFrame(pd.DataFrame(row.str).T.values[0]).T\n/home/spark-92050934-baa6-4c29-a7c1-cd/.ipykernel/28686/command-8669217357770439-439007770:4: FutureWarning: Columnar iteration over characters will be deprecated in future releases.\n  tmp = pd.DataFrame(pd.DataFrame(row.str).T.values[0]).T\n/home/spark-92050934-baa6-4c29-a7c1-cd/.ipykernel/28686/command-8669217357770439-439007770:4: FutureWarning: Columnar iteration over characters will be deprecated in future releases.\n  tmp = pd.DataFrame(pd.DataFrame(row.str).T.values[0]).T\n/home/spark-92050934-baa6-4c29-a7c1-cd/.ipykernel/28686/command-8669217357770439-439007770:4: FutureWarning: Columnar iteration over characters will be deprecated in future releases.\n  tmp = pd.DataFrame(pd.DataFrame(row.str).T.values[0]).T\n/home/spark-92050934-baa6-4c29-a7c1-cd/.ipykernel/28686/command-8669217357770439-439007770:4: FutureWarning: Columnar iteration over characters will be deprecated in future releases.\n  tmp = pd.DataFrame(pd.DataFrame(row.str).T.values[0]).T\n/home/spark-92050934-baa6-4c29-a7c1-cd/.ipykernel/28686/command-8669217357770439-439007770:4: FutureWarning: Columnar iteration over characters will be deprecated in future releases.\n  tmp = pd.DataFrame(pd.DataFrame(row.str).T.values[0]).T\n/home/spark-92050934-baa6-4c29-a7c1-cd/.ipykernel/28686/command-8669217357770439-439007770:4: FutureWarning: Columnar iteration over characters will be deprecated in future releases.\n  tmp = pd.DataFrame(pd.DataFrame(row.str).T.values[0]).T\n/home/spark-92050934-baa6-4c29-a7c1-cd/.ipykernel/28686/command-8669217357770439-439007770:4: FutureWarning: Columnar iteration over characters will be deprecated in future releases.\n  tmp = pd.DataFrame(pd.DataFrame(row.str).T.values[0]).T\n/home/spark-92050934-baa6-4c29-a7c1-cd/.ipykernel/28686/command-8669217357770439-439007770:4: FutureWarning: Columnar iteration over characters will be deprecated in future releases.\n  tmp = pd.DataFrame(pd.DataFrame(row.str).T.values[0]).T\n/home/spark-92050934-baa6-4c29-a7c1-cd/.ipykernel/28686/command-8669217357770439-439007770:4: FutureWarning: Columnar iteration over characters will be deprecated in future releases.\n  tmp = pd.DataFrame(pd.DataFrame(row.str).T.values[0]).T\n/home/spark-92050934-baa6-4c29-a7c1-cd/.ipykernel/28686/command-8669217357770439-439007770:4: FutureWarning: Columnar iteration over characters will be deprecated in future releases.\n  tmp = pd.DataFrame(pd.DataFrame(row.str).T.values[0]).T\n/home/spark-92050934-baa6-4c29-a7c1-cd/.ipykernel/28686/command-8669217357770439-439007770:4: FutureWarning: Columnar iteration over characters will be deprecated in future releases.\n  tmp = pd.DataFrame(pd.DataFrame(row.str).T.values[0]).T\n/home/spark-92050934-baa6-4c29-a7c1-cd/.ipykernel/28686/command-8669217357770439-439007770:4: FutureWarning: Columnar iteration over characters will be deprecated in future releases.\n  tmp = pd.DataFrame(pd.DataFrame(row.str).T.values[0]).T\n/home/spark-92050934-baa6-4c29-a7c1-cd/.ipykernel/28686/command-8669217357770439-439007770:4: FutureWarning: Columnar iteration over characters will be deprecated in future releases.\n  tmp = pd.DataFrame(pd.DataFrame(row.str).T.values[0]).T\n/home/spark-92050934-baa6-4c29-a7c1-cd/.ipykernel/28686/command-8669217357770439-439007770:4: FutureWarning: Columnar iteration over characters will be deprecated in future releases.\n  tmp = pd.DataFrame(pd.DataFrame(row.str).T.values[0]).T\n/home/spark-92050934-baa6-4c29-a7c1-cd/.ipykernel/28686/command-8669217357770439-439007770:4: FutureWarning: Columnar iteration over characters will be deprecated in future releases.\n  tmp = pd.DataFrame(pd.DataFrame(row.str).T.values[0]).T\n/home/spark-92050934-baa6-4c29-a7c1-cd/.ipykernel/28686/command-8669217357770439-439007770:4: FutureWarning: Columnar iteration over characters will be deprecated in future releases.\n  tmp = pd.DataFrame(pd.DataFrame(row.str).T.values[0]).T\n/home/spark-92050934-baa6-4c29-a7c1-cd/.ipykernel/28686/command-8669217357770439-439007770:4: FutureWarning: Columnar iteration over characters will be deprecated in future releases.\n  tmp = pd.DataFrame(pd.DataFrame(row.str).T.values[0]).T\n/home/spark-92050934-baa6-4c29-a7c1-cd/.ipykernel/28686/command-8669217357770439-439007770:4: FutureWarning: Columnar iteration over characters will be deprecated in future releases.\n  tmp = pd.DataFrame(pd.DataFrame(row.str).T.values[0]).T\n/home/spark-92050934-baa6-4c29-a7c1-cd/.ipykernel/28686/command-8669217357770439-439007770:4: FutureWarning: Columnar iteration over characters will be deprecated in future releases.\n  tmp = pd.DataFrame(pd.DataFrame(row.str).T.values[0]).T\n/home/spark-92050934-baa6-4c29-a7c1-cd/.ipykernel/28686/command-8669217357770439-439007770:4: FutureWarning: Columnar iteration over characters will be deprecated in future releases.\n  tmp = pd.DataFrame(pd.DataFrame(row.str).T.values[0]).T\n/home/spark-92050934-baa6-4c29-a7c1-cd/.ipykernel/28686/command-8669217357770439-439007770:4: FutureWarning: Columnar iteration over characters will be deprecated in future releases.\n  tmp = pd.DataFrame(pd.DataFrame(row.str).T.values[0]).T\n/home/spark-92050934-baa6-4c29-a7c1-cd/.ipykernel/28686/command-8669217357770439-439007770:4: FutureWarning: Columnar iteration over characters will be deprecated in future releases.\n  tmp = pd.DataFrame(pd.DataFrame(row.str).T.values[0]).T\n/home/spark-92050934-baa6-4c29-a7c1-cd/.ipykernel/28686/command-8669217357770439-439007770:4: FutureWarning: Columnar iteration over characters will be deprecated in future releases.\n  tmp = pd.DataFrame(pd.DataFrame(row.str).T.values[0]).T\n/home/spark-92050934-baa6-4c29-a7c1-cd/.ipykernel/28686/command-8669217357770439-439007770:4: FutureWarning: Columnar iteration over characters will be deprecated in future releases.\n  tmp = pd.DataFrame(pd.DataFrame(row.str).T.values[0]).T\n/home/spark-92050934-baa6-4c29-a7c1-cd/.ipykernel/28686/command-8669217357770439-439007770:4: FutureWarning: Columnar iteration over characters will be deprecated in future releases.\n  tmp = pd.DataFrame(pd.DataFrame(row.str).T.values[0]).T\n/home/spark-92050934-baa6-4c29-a7c1-cd/.ipykernel/28686/command-8669217357770439-439007770:4: FutureWarning: Columnar iteration over characters will be deprecated in future releases.\n  tmp = pd.DataFrame(pd.DataFrame(row.str).T.values[0]).T\n/home/spark-92050934-baa6-4c29-a7c1-cd/.ipykernel/28686/command-8669217357770439-439007770:4: FutureWarning: Columnar iteration over characters will be deprecated in future releases.\n  tmp = pd.DataFrame(pd.DataFrame(row.str).T.values[0]).T\n/home/spark-92050934-baa6-4c29-a7c1-cd/.ipykernel/28686/command-8669217357770439-439007770:4: FutureWarning: Columnar iteration over characters will be deprecated in future releases.\n  tmp = pd.DataFrame(pd.DataFrame(row.str).T.values[0]).T\n/home/spark-92050934-baa6-4c29-a7c1-cd/.ipykernel/28686/command-8669217357770439-439007770:4: FutureWarning: Columnar iteration over characters will be deprecated in future releases.\n  tmp = pd.DataFrame(pd.DataFrame(row.str).T.values[0]).T\n/home/spark-92050934-baa6-4c29-a7c1-cd/.ipykernel/28686/command-8669217357770439-439007770:4: FutureWarning: Columnar iteration over characters will be deprecated in future releases.\n  tmp = pd.DataFrame(pd.DataFrame(row.str).T.values[0]).T\n/home/spark-92050934-baa6-4c29-a7c1-cd/.ipykernel/28686/command-8669217357770439-439007770:4: FutureWarning: Columnar iteration over characters will be deprecated in future releases.\n  tmp = pd.DataFrame(pd.DataFrame(row.str).T.values[0]).T\n/home/spark-92050934-baa6-4c29-a7c1-cd/.ipykernel/28686/command-8669217357770439-439007770:4: FutureWarning: Columnar iteration over characters will be deprecated in future releases.\n  tmp = pd.DataFrame(pd.DataFrame(row.str).T.values[0]).T\n/home/spark-92050934-baa6-4c29-a7c1-cd/.ipykernel/28686/command-8669217357770439-439007770:4: FutureWarning: Columnar iteration over characters will be deprecated in future releases.\n  tmp = pd.DataFrame(pd.DataFrame(row.str).T.values[0]).T\n/home/spark-92050934-baa6-4c29-a7c1-cd/.ipykernel/28686/command-8669217357770439-439007770:4: FutureWarning: Columnar iteration over characters will be deprecated in future releases.\n  tmp = pd.DataFrame(pd.DataFrame(row.str).T.values[0]).T\n/home/spark-92050934-baa6-4c29-a7c1-cd/.ipykernel/28686/command-8669217357770439-439007770:4: FutureWarning: Columnar iteration over characters will be deprecated in future releases.\n  tmp = pd.DataFrame(pd.DataFrame(row.str).T.values[0]).T\n/home/spark-92050934-baa6-4c29-a7c1-cd/.ipykernel/28686/command-8669217357770439-439007770:4: FutureWarning: Columnar iteration over characters will be deprecated in future releases.\n  tmp = pd.DataFrame(pd.DataFrame(row.str).T.values[0]).T\n/home/spark-92050934-baa6-4c29-a7c1-cd/.ipykernel/28686/command-8669217357770439-439007770:4: FutureWarning: Columnar iteration over characters will be deprecated in future releases.\n  tmp = pd.DataFrame(pd.DataFrame(row.str).T.values[0]).T\n/home/spark-92050934-baa6-4c29-a7c1-cd/.ipykernel/28686/command-8669217357770439-439007770:4: FutureWarning: Columnar iteration over characters will be deprecated in future releases.\n  tmp = pd.DataFrame(pd.DataFrame(row.str).T.values[0]).T\n/home/spark-92050934-baa6-4c29-a7c1-cd/.ipykernel/28686/command-8669217357770439-439007770:4: FutureWarning: Columnar iteration over characters will be deprecated in future releases.\n  tmp = pd.DataFrame(pd.DataFrame(row.str).T.values[0]).T\n/home/spark-92050934-baa6-4c29-a7c1-cd/.ipykernel/28686/command-8669217357770439-439007770:4: FutureWarning: Columnar iteration over characters will be deprecated in future releases.\n  tmp = pd.DataFrame(pd.DataFrame(row.str).T.values[0]).T\n/home/spark-92050934-baa6-4c29-a7c1-cd/.ipykernel/28686/command-8669217357770439-439007770:4: FutureWarning: Columnar iteration over characters will be deprecated in future releases.\n  tmp = pd.DataFrame(pd.DataFrame(row.str).T.values[0]).T\n/home/spark-92050934-baa6-4c29-a7c1-cd/.ipykernel/28686/command-8669217357770439-439007770:4: FutureWarning: Columnar iteration over characters will be deprecated in future releases.\n  tmp = pd.DataFrame(pd.DataFrame(row.str).T.values[0]).T\n/home/spark-92050934-baa6-4c29-a7c1-cd/.ipykernel/28686/command-8669217357770439-439007770:4: FutureWarning: Columnar iteration over characters will be deprecated in future releases.\n  tmp = pd.DataFrame(pd.DataFrame(row.str).T.values[0]).T\n/home/spark-92050934-baa6-4c29-a7c1-cd/.ipykernel/28686/command-8669217357770439-439007770:4: FutureWarning: Columnar iteration over characters will be deprecated in future releases.\n  tmp = pd.DataFrame(pd.DataFrame(row.str).T.values[0]).T\n/home/spark-92050934-baa6-4c29-a7c1-cd/.ipykernel/28686/command-8669217357770439-439007770:4: FutureWarning: Columnar iteration over characters will be deprecated in future releases.\n  tmp = pd.DataFrame(pd.DataFrame(row.str).T.values[0]).T\n/home/spark-92050934-baa6-4c29-a7c1-cd/.ipykernel/28686/command-8669217357770439-439007770:4: FutureWarning: Columnar iteration over characters will be deprecated in future releases.\n  tmp = pd.DataFrame(pd.DataFrame(row.str).T.values[0]).T\n/home/spark-92050934-baa6-4c29-a7c1-cd/.ipykernel/28686/command-8669217357770439-439007770:4: FutureWarning: Columnar iteration over characters will be deprecated in future releases.\n  tmp = pd.DataFrame(pd.DataFrame(row.str).T.values[0]).T\n/home/spark-92050934-baa6-4c29-a7c1-cd/.ipykernel/28686/command-8669217357770439-439007770:4: FutureWarning: Columnar iteration over characters will be deprecated in future releases.\n  tmp = pd.DataFrame(pd.DataFrame(row.str).T.values[0]).T\n/home/spark-92050934-baa6-4c29-a7c1-cd/.ipykernel/28686/command-8669217357770439-439007770:4: FutureWarning: Columnar iteration over characters will be deprecated in future releases.\n  tmp = pd.DataFrame(pd.DataFrame(row.str).T.values[0]).T\n/home/spark-92050934-baa6-4c29-a7c1-cd/.ipykernel/28686/command-8669217357770439-439007770:4: FutureWarning: Columnar iteration over characters will be deprecated in future releases.\n  tmp = pd.DataFrame(pd.DataFrame(row.str).T.values[0]).T\n/home/spark-92050934-baa6-4c29-a7c1-cd/.ipykernel/28686/command-8669217357770439-439007770:4: FutureWarning: Columnar iteration over characters will be deprecated in future releases.\n  tmp = pd.DataFrame(pd.DataFrame(row.str).T.values[0]).T\n/home/spark-92050934-baa6-4c29-a7c1-cd/.ipykernel/28686/command-8669217357770439-439007770:4: FutureWarning: Columnar iteration over characters will be deprecated in future releases.\n  tmp = pd.DataFrame(pd.DataFrame(row.str).T.values[0]).T\n/home/spark-92050934-baa6-4c29-a7c1-cd/.ipykernel/28686/command-8669217357770439-439007770:4: FutureWarning: Columnar iteration over characters will be deprecated in future releases.\n  tmp = pd.DataFrame(pd.DataFrame(row.str).T.values[0]).T\n/home/spark-92050934-baa6-4c29-a7c1-cd/.ipykernel/28686/command-8669217357770439-439007770:4: FutureWarning: Columnar iteration over characters will be deprecated in future releases.\n  tmp = pd.DataFrame(pd.DataFrame(row.str).T.values[0]).T\n"
     ]
    }
   ],
   "source": [
    "new_df = []\n",
    "\n",
    "for i, row in tmp_df.iterrows():\n",
    "    tmp = pd.DataFrame(pd.DataFrame(row.str).T.values[0]).T\n",
    "    tmp.columns = new_columns[:-1]\n",
    "    new_df.append(tmp)\n",
    "\n",
    "data_features_new_columns = pd.concat(new_df)\n",
    "\n"
   ]
  },
  {
   "cell_type": "code",
   "execution_count": 0,
   "metadata": {
    "application/vnd.databricks.v1+cell": {
     "cellMetadata": {
      "byteLimit": 2048000,
      "rowLimit": 10000
     },
     "inputWidgets": {},
     "nuid": "db1f0fd2-7e9f-4a85-92c9-0902b043b1a6",
     "showTitle": false,
     "tableResultSettingsMap": {},
     "title": ""
    }
   },
   "outputs": [
    {
     "output_type": "execute_result",
     "data": {
      "text/html": [
       "<div>\n",
       "<style scoped>\n",
       "    .dataframe tbody tr th:only-of-type {\n",
       "        vertical-align: middle;\n",
       "    }\n",
       "\n",
       "    .dataframe tbody tr th {\n",
       "        vertical-align: top;\n",
       "    }\n",
       "\n",
       "    .dataframe thead th {\n",
       "        text-align: right;\n",
       "    }\n",
       "</style>\n",
       "<table border=\"1\" class=\"dataframe\">\n",
       "  <thead>\n",
       "    <tr style=\"text-align: right;\">\n",
       "      <th></th>\n",
       "      <th>fixed_acidity</th>\n",
       "      <th>volatile_acidity</th>\n",
       "      <th>citric_acid</th>\n",
       "      <th>residual_sugar</th>\n",
       "      <th>chlorides</th>\n",
       "      <th>free_sulfur_dioxide</th>\n",
       "      <th>total_sulfur_dioxide</th>\n",
       "      <th>density</th>\n",
       "      <th>pH</th>\n",
       "      <th>sulphates</th>\n",
       "      <th>alcohol</th>\n",
       "      <th>quality</th>\n",
       "    </tr>\n",
       "  </thead>\n",
       "  <tbody>\n",
       "    <tr>\n",
       "      <th>0</th>\n",
       "      <td>7.4</td>\n",
       "      <td>0.7</td>\n",
       "      <td>0</td>\n",
       "      <td>1.9</td>\n",
       "      <td>0.076</td>\n",
       "      <td>11</td>\n",
       "      <td>34</td>\n",
       "      <td>0.9978</td>\n",
       "      <td>3.51</td>\n",
       "      <td>0.56</td>\n",
       "      <td>9.4</td>\n",
       "      <td>5</td>\n",
       "    </tr>\n",
       "    <tr>\n",
       "      <th>0</th>\n",
       "      <td>7.8</td>\n",
       "      <td>0.88</td>\n",
       "      <td>0</td>\n",
       "      <td>2.6</td>\n",
       "      <td>0.098</td>\n",
       "      <td>25</td>\n",
       "      <td>67</td>\n",
       "      <td>0.9968</td>\n",
       "      <td>3.2</td>\n",
       "      <td>0.68</td>\n",
       "      <td>9.8</td>\n",
       "      <td>5</td>\n",
       "    </tr>\n",
       "    <tr>\n",
       "      <th>0</th>\n",
       "      <td>7.8</td>\n",
       "      <td>0.76</td>\n",
       "      <td>0.04</td>\n",
       "      <td>2.3</td>\n",
       "      <td>0.092</td>\n",
       "      <td>15</td>\n",
       "      <td>54</td>\n",
       "      <td>0.997</td>\n",
       "      <td>3.26</td>\n",
       "      <td>0.65</td>\n",
       "      <td>9.8</td>\n",
       "      <td>5</td>\n",
       "    </tr>\n",
       "    <tr>\n",
       "      <th>0</th>\n",
       "      <td>11.2</td>\n",
       "      <td>0.28</td>\n",
       "      <td>0.56</td>\n",
       "      <td>1.9</td>\n",
       "      <td>0.075</td>\n",
       "      <td>17</td>\n",
       "      <td>60</td>\n",
       "      <td>0.998</td>\n",
       "      <td>3.16</td>\n",
       "      <td>0.58</td>\n",
       "      <td>9.8</td>\n",
       "      <td>6</td>\n",
       "    </tr>\n",
       "    <tr>\n",
       "      <th>0</th>\n",
       "      <td>7.4</td>\n",
       "      <td>0.7</td>\n",
       "      <td>0</td>\n",
       "      <td>1.9</td>\n",
       "      <td>0.076</td>\n",
       "      <td>11</td>\n",
       "      <td>34</td>\n",
       "      <td>0.9978</td>\n",
       "      <td>3.51</td>\n",
       "      <td>0.56</td>\n",
       "      <td>9.4</td>\n",
       "      <td>5</td>\n",
       "    </tr>\n",
       "    <tr>\n",
       "      <th>...</th>\n",
       "      <td>...</td>\n",
       "      <td>...</td>\n",
       "      <td>...</td>\n",
       "      <td>...</td>\n",
       "      <td>...</td>\n",
       "      <td>...</td>\n",
       "      <td>...</td>\n",
       "      <td>...</td>\n",
       "      <td>...</td>\n",
       "      <td>...</td>\n",
       "      <td>...</td>\n",
       "      <td>...</td>\n",
       "    </tr>\n",
       "    <tr>\n",
       "      <th>0</th>\n",
       "      <td>6.2</td>\n",
       "      <td>0.21</td>\n",
       "      <td>0.29</td>\n",
       "      <td>1.6</td>\n",
       "      <td>0.039</td>\n",
       "      <td>24</td>\n",
       "      <td>92</td>\n",
       "      <td>0.99114</td>\n",
       "      <td>3.27</td>\n",
       "      <td>0.5</td>\n",
       "      <td>11.2</td>\n",
       "      <td>6</td>\n",
       "    </tr>\n",
       "    <tr>\n",
       "      <th>0</th>\n",
       "      <td>6.6</td>\n",
       "      <td>0.32</td>\n",
       "      <td>0.36</td>\n",
       "      <td>8</td>\n",
       "      <td>0.047</td>\n",
       "      <td>57</td>\n",
       "      <td>168</td>\n",
       "      <td>0.9949</td>\n",
       "      <td>3.15</td>\n",
       "      <td>0.46</td>\n",
       "      <td>9.6</td>\n",
       "      <td>5</td>\n",
       "    </tr>\n",
       "    <tr>\n",
       "      <th>0</th>\n",
       "      <td>6.5</td>\n",
       "      <td>0.24</td>\n",
       "      <td>0.19</td>\n",
       "      <td>1.2</td>\n",
       "      <td>0.041</td>\n",
       "      <td>30</td>\n",
       "      <td>111</td>\n",
       "      <td>0.99254</td>\n",
       "      <td>2.99</td>\n",
       "      <td>0.46</td>\n",
       "      <td>9.4</td>\n",
       "      <td>6</td>\n",
       "    </tr>\n",
       "    <tr>\n",
       "      <th>0</th>\n",
       "      <td>5.5</td>\n",
       "      <td>0.29</td>\n",
       "      <td>0.3</td>\n",
       "      <td>1.1</td>\n",
       "      <td>0.022</td>\n",
       "      <td>20</td>\n",
       "      <td>110</td>\n",
       "      <td>0.98869</td>\n",
       "      <td>3.34</td>\n",
       "      <td>0.38</td>\n",
       "      <td>12.8</td>\n",
       "      <td>7</td>\n",
       "    </tr>\n",
       "    <tr>\n",
       "      <th>0</th>\n",
       "      <td>6</td>\n",
       "      <td>0.21</td>\n",
       "      <td>0.38</td>\n",
       "      <td>0.8</td>\n",
       "      <td>0.02</td>\n",
       "      <td>22</td>\n",
       "      <td>98</td>\n",
       "      <td>0.98941</td>\n",
       "      <td>3.26</td>\n",
       "      <td>0.32</td>\n",
       "      <td>11.8</td>\n",
       "      <td>6</td>\n",
       "    </tr>\n",
       "  </tbody>\n",
       "</table>\n",
       "<p>6497 rows × 12 columns</p>\n",
       "</div>"
      ],
      "text/plain": [
       "   fixed_acidity volatile_acidity citric_acid  ... sulphates alcohol quality\n",
       "0            7.4              0.7           0  ...      0.56     9.4       5\n",
       "0            7.8             0.88           0  ...      0.68     9.8       5\n",
       "0            7.8             0.76        0.04  ...      0.65     9.8       5\n",
       "0           11.2             0.28        0.56  ...      0.58     9.8       6\n",
       "0            7.4              0.7           0  ...      0.56     9.4       5\n",
       "..           ...              ...         ...  ...       ...     ...     ...\n",
       "0            6.2             0.21        0.29  ...       0.5    11.2       6\n",
       "0            6.6             0.32        0.36  ...      0.46     9.6       5\n",
       "0            6.5             0.24        0.19  ...      0.46     9.4       6\n",
       "0            5.5             0.29         0.3  ...      0.38    12.8       7\n",
       "0              6             0.21        0.38  ...      0.32    11.8       6\n",
       "\n",
       "[6497 rows x 12 columns]"
      ]
     },
     "execution_count": 12,
     "metadata": {},
     "output_type": "execute_result"
    }
   ],
   "source": [
    "data_features_new_columns"
   ]
  },
  {
   "cell_type": "code",
   "execution_count": 0,
   "metadata": {
    "application/vnd.databricks.v1+cell": {
     "cellMetadata": {
      "byteLimit": 2048000,
      "rowLimit": 10000
     },
     "inputWidgets": {},
     "nuid": "b3298b51-a16b-4153-b065-cb279639da10",
     "showTitle": false,
     "tableResultSettingsMap": {},
     "title": ""
    }
   },
   "outputs": [],
   "source": [
    "data_features_new_columns.index = data_features.index"
   ]
  },
  {
   "cell_type": "code",
   "execution_count": 0,
   "metadata": {
    "application/vnd.databricks.v1+cell": {
     "cellMetadata": {
      "byteLimit": 2048000,
      "rowLimit": 10000
     },
     "inputWidgets": {},
     "nuid": "34e12d21-6352-4bbc-ac84-1ac5df96e76a",
     "showTitle": false,
     "tableResultSettingsMap": {},
     "title": ""
    }
   },
   "outputs": [
    {
     "output_type": "execute_result",
     "data": {
      "text/html": [
       "<div>\n",
       "<style scoped>\n",
       "    .dataframe tbody tr th:only-of-type {\n",
       "        vertical-align: middle;\n",
       "    }\n",
       "\n",
       "    .dataframe tbody tr th {\n",
       "        vertical-align: top;\n",
       "    }\n",
       "\n",
       "    .dataframe thead th {\n",
       "        text-align: right;\n",
       "    }\n",
       "</style>\n",
       "<table border=\"1\" class=\"dataframe\">\n",
       "  <thead>\n",
       "    <tr style=\"text-align: right;\">\n",
       "      <th></th>\n",
       "      <th>fixed_acidity</th>\n",
       "      <th>volatile_acidity</th>\n",
       "      <th>citric_acid</th>\n",
       "      <th>residual_sugar</th>\n",
       "      <th>chlorides</th>\n",
       "      <th>free_sulfur_dioxide</th>\n",
       "      <th>total_sulfur_dioxide</th>\n",
       "      <th>density</th>\n",
       "      <th>pH</th>\n",
       "      <th>sulphates</th>\n",
       "      <th>alcohol</th>\n",
       "      <th>quality</th>\n",
       "    </tr>\n",
       "  </thead>\n",
       "  <tbody>\n",
       "    <tr>\n",
       "      <th>0</th>\n",
       "      <td>7.4</td>\n",
       "      <td>0.7</td>\n",
       "      <td>0</td>\n",
       "      <td>1.9</td>\n",
       "      <td>0.076</td>\n",
       "      <td>11</td>\n",
       "      <td>34</td>\n",
       "      <td>0.9978</td>\n",
       "      <td>3.51</td>\n",
       "      <td>0.56</td>\n",
       "      <td>9.4</td>\n",
       "      <td>5</td>\n",
       "    </tr>\n",
       "    <tr>\n",
       "      <th>1</th>\n",
       "      <td>7.8</td>\n",
       "      <td>0.88</td>\n",
       "      <td>0</td>\n",
       "      <td>2.6</td>\n",
       "      <td>0.098</td>\n",
       "      <td>25</td>\n",
       "      <td>67</td>\n",
       "      <td>0.9968</td>\n",
       "      <td>3.2</td>\n",
       "      <td>0.68</td>\n",
       "      <td>9.8</td>\n",
       "      <td>5</td>\n",
       "    </tr>\n",
       "    <tr>\n",
       "      <th>2</th>\n",
       "      <td>7.8</td>\n",
       "      <td>0.76</td>\n",
       "      <td>0.04</td>\n",
       "      <td>2.3</td>\n",
       "      <td>0.092</td>\n",
       "      <td>15</td>\n",
       "      <td>54</td>\n",
       "      <td>0.997</td>\n",
       "      <td>3.26</td>\n",
       "      <td>0.65</td>\n",
       "      <td>9.8</td>\n",
       "      <td>5</td>\n",
       "    </tr>\n",
       "    <tr>\n",
       "      <th>3</th>\n",
       "      <td>11.2</td>\n",
       "      <td>0.28</td>\n",
       "      <td>0.56</td>\n",
       "      <td>1.9</td>\n",
       "      <td>0.075</td>\n",
       "      <td>17</td>\n",
       "      <td>60</td>\n",
       "      <td>0.998</td>\n",
       "      <td>3.16</td>\n",
       "      <td>0.58</td>\n",
       "      <td>9.8</td>\n",
       "      <td>6</td>\n",
       "    </tr>\n",
       "    <tr>\n",
       "      <th>4</th>\n",
       "      <td>7.4</td>\n",
       "      <td>0.7</td>\n",
       "      <td>0</td>\n",
       "      <td>1.9</td>\n",
       "      <td>0.076</td>\n",
       "      <td>11</td>\n",
       "      <td>34</td>\n",
       "      <td>0.9978</td>\n",
       "      <td>3.51</td>\n",
       "      <td>0.56</td>\n",
       "      <td>9.4</td>\n",
       "      <td>5</td>\n",
       "    </tr>\n",
       "    <tr>\n",
       "      <th>...</th>\n",
       "      <td>...</td>\n",
       "      <td>...</td>\n",
       "      <td>...</td>\n",
       "      <td>...</td>\n",
       "      <td>...</td>\n",
       "      <td>...</td>\n",
       "      <td>...</td>\n",
       "      <td>...</td>\n",
       "      <td>...</td>\n",
       "      <td>...</td>\n",
       "      <td>...</td>\n",
       "      <td>...</td>\n",
       "    </tr>\n",
       "    <tr>\n",
       "      <th>4893</th>\n",
       "      <td>6.2</td>\n",
       "      <td>0.21</td>\n",
       "      <td>0.29</td>\n",
       "      <td>1.6</td>\n",
       "      <td>0.039</td>\n",
       "      <td>24</td>\n",
       "      <td>92</td>\n",
       "      <td>0.99114</td>\n",
       "      <td>3.27</td>\n",
       "      <td>0.5</td>\n",
       "      <td>11.2</td>\n",
       "      <td>6</td>\n",
       "    </tr>\n",
       "    <tr>\n",
       "      <th>4894</th>\n",
       "      <td>6.6</td>\n",
       "      <td>0.32</td>\n",
       "      <td>0.36</td>\n",
       "      <td>8</td>\n",
       "      <td>0.047</td>\n",
       "      <td>57</td>\n",
       "      <td>168</td>\n",
       "      <td>0.9949</td>\n",
       "      <td>3.15</td>\n",
       "      <td>0.46</td>\n",
       "      <td>9.6</td>\n",
       "      <td>5</td>\n",
       "    </tr>\n",
       "    <tr>\n",
       "      <th>4895</th>\n",
       "      <td>6.5</td>\n",
       "      <td>0.24</td>\n",
       "      <td>0.19</td>\n",
       "      <td>1.2</td>\n",
       "      <td>0.041</td>\n",
       "      <td>30</td>\n",
       "      <td>111</td>\n",
       "      <td>0.99254</td>\n",
       "      <td>2.99</td>\n",
       "      <td>0.46</td>\n",
       "      <td>9.4</td>\n",
       "      <td>6</td>\n",
       "    </tr>\n",
       "    <tr>\n",
       "      <th>4896</th>\n",
       "      <td>5.5</td>\n",
       "      <td>0.29</td>\n",
       "      <td>0.3</td>\n",
       "      <td>1.1</td>\n",
       "      <td>0.022</td>\n",
       "      <td>20</td>\n",
       "      <td>110</td>\n",
       "      <td>0.98869</td>\n",
       "      <td>3.34</td>\n",
       "      <td>0.38</td>\n",
       "      <td>12.8</td>\n",
       "      <td>7</td>\n",
       "    </tr>\n",
       "    <tr>\n",
       "      <th>4897</th>\n",
       "      <td>6</td>\n",
       "      <td>0.21</td>\n",
       "      <td>0.38</td>\n",
       "      <td>0.8</td>\n",
       "      <td>0.02</td>\n",
       "      <td>22</td>\n",
       "      <td>98</td>\n",
       "      <td>0.98941</td>\n",
       "      <td>3.26</td>\n",
       "      <td>0.32</td>\n",
       "      <td>11.8</td>\n",
       "      <td>6</td>\n",
       "    </tr>\n",
       "  </tbody>\n",
       "</table>\n",
       "<p>6497 rows × 12 columns</p>\n",
       "</div>"
      ],
      "text/plain": [
       "     fixed_acidity volatile_acidity citric_acid  ... sulphates alcohol quality\n",
       "0              7.4              0.7           0  ...      0.56     9.4       5\n",
       "1              7.8             0.88           0  ...      0.68     9.8       5\n",
       "2              7.8             0.76        0.04  ...      0.65     9.8       5\n",
       "3             11.2             0.28        0.56  ...      0.58     9.8       6\n",
       "4              7.4              0.7           0  ...      0.56     9.4       5\n",
       "...            ...              ...         ...  ...       ...     ...     ...\n",
       "4893           6.2             0.21        0.29  ...       0.5    11.2       6\n",
       "4894           6.6             0.32        0.36  ...      0.46     9.6       5\n",
       "4895           6.5             0.24        0.19  ...      0.46     9.4       6\n",
       "4896           5.5             0.29         0.3  ...      0.38    12.8       7\n",
       "4897             6             0.21        0.38  ...      0.32    11.8       6\n",
       "\n",
       "[6497 rows x 12 columns]"
      ]
     },
     "execution_count": 14,
     "metadata": {},
     "output_type": "execute_result"
    }
   ],
   "source": [
    "data_features_new_columns"
   ]
  },
  {
   "cell_type": "code",
   "execution_count": 0,
   "metadata": {
    "application/vnd.databricks.v1+cell": {
     "cellMetadata": {
      "byteLimit": 2048000,
      "rowLimit": 10000
     },
     "inputWidgets": {},
     "nuid": "a4b552e1-ccea-47fb-a790-123a2a14a924",
     "showTitle": false,
     "tableResultSettingsMap": {},
     "title": ""
    }
   },
   "outputs": [],
   "source": [
    "data_features_new_columns['is_red'] = data_classifier"
   ]
  },
  {
   "cell_type": "code",
   "execution_count": 0,
   "metadata": {
    "application/vnd.databricks.v1+cell": {
     "cellMetadata": {
      "byteLimit": 2048000,
      "rowLimit": 10000
     },
     "inputWidgets": {},
     "nuid": "97ce1273-a38d-452b-811f-0fb17417346c",
     "showTitle": false,
     "tableResultSettingsMap": {},
     "title": ""
    }
   },
   "outputs": [
    {
     "output_type": "execute_result",
     "data": {
      "text/html": [
       "<div>\n",
       "<style scoped>\n",
       "    .dataframe tbody tr th:only-of-type {\n",
       "        vertical-align: middle;\n",
       "    }\n",
       "\n",
       "    .dataframe tbody tr th {\n",
       "        vertical-align: top;\n",
       "    }\n",
       "\n",
       "    .dataframe thead th {\n",
       "        text-align: right;\n",
       "    }\n",
       "</style>\n",
       "<table border=\"1\" class=\"dataframe\">\n",
       "  <thead>\n",
       "    <tr style=\"text-align: right;\">\n",
       "      <th></th>\n",
       "      <th>fixed_acidity</th>\n",
       "      <th>volatile_acidity</th>\n",
       "      <th>citric_acid</th>\n",
       "      <th>residual_sugar</th>\n",
       "      <th>chlorides</th>\n",
       "      <th>free_sulfur_dioxide</th>\n",
       "      <th>total_sulfur_dioxide</th>\n",
       "      <th>density</th>\n",
       "      <th>pH</th>\n",
       "      <th>sulphates</th>\n",
       "      <th>alcohol</th>\n",
       "      <th>quality</th>\n",
       "      <th>is_red</th>\n",
       "    </tr>\n",
       "  </thead>\n",
       "  <tbody>\n",
       "    <tr>\n",
       "      <th>0</th>\n",
       "      <td>7.4</td>\n",
       "      <td>0.7</td>\n",
       "      <td>0</td>\n",
       "      <td>1.9</td>\n",
       "      <td>0.076</td>\n",
       "      <td>11</td>\n",
       "      <td>34</td>\n",
       "      <td>0.9978</td>\n",
       "      <td>3.51</td>\n",
       "      <td>0.56</td>\n",
       "      <td>9.4</td>\n",
       "      <td>5</td>\n",
       "      <td>1</td>\n",
       "    </tr>\n",
       "    <tr>\n",
       "      <th>1</th>\n",
       "      <td>7.8</td>\n",
       "      <td>0.88</td>\n",
       "      <td>0</td>\n",
       "      <td>2.6</td>\n",
       "      <td>0.098</td>\n",
       "      <td>25</td>\n",
       "      <td>67</td>\n",
       "      <td>0.9968</td>\n",
       "      <td>3.2</td>\n",
       "      <td>0.68</td>\n",
       "      <td>9.8</td>\n",
       "      <td>5</td>\n",
       "      <td>1</td>\n",
       "    </tr>\n",
       "    <tr>\n",
       "      <th>2</th>\n",
       "      <td>7.8</td>\n",
       "      <td>0.76</td>\n",
       "      <td>0.04</td>\n",
       "      <td>2.3</td>\n",
       "      <td>0.092</td>\n",
       "      <td>15</td>\n",
       "      <td>54</td>\n",
       "      <td>0.997</td>\n",
       "      <td>3.26</td>\n",
       "      <td>0.65</td>\n",
       "      <td>9.8</td>\n",
       "      <td>5</td>\n",
       "      <td>1</td>\n",
       "    </tr>\n",
       "    <tr>\n",
       "      <th>3</th>\n",
       "      <td>11.2</td>\n",
       "      <td>0.28</td>\n",
       "      <td>0.56</td>\n",
       "      <td>1.9</td>\n",
       "      <td>0.075</td>\n",
       "      <td>17</td>\n",
       "      <td>60</td>\n",
       "      <td>0.998</td>\n",
       "      <td>3.16</td>\n",
       "      <td>0.58</td>\n",
       "      <td>9.8</td>\n",
       "      <td>6</td>\n",
       "      <td>1</td>\n",
       "    </tr>\n",
       "    <tr>\n",
       "      <th>4</th>\n",
       "      <td>7.4</td>\n",
       "      <td>0.7</td>\n",
       "      <td>0</td>\n",
       "      <td>1.9</td>\n",
       "      <td>0.076</td>\n",
       "      <td>11</td>\n",
       "      <td>34</td>\n",
       "      <td>0.9978</td>\n",
       "      <td>3.51</td>\n",
       "      <td>0.56</td>\n",
       "      <td>9.4</td>\n",
       "      <td>5</td>\n",
       "      <td>1</td>\n",
       "    </tr>\n",
       "    <tr>\n",
       "      <th>...</th>\n",
       "      <td>...</td>\n",
       "      <td>...</td>\n",
       "      <td>...</td>\n",
       "      <td>...</td>\n",
       "      <td>...</td>\n",
       "      <td>...</td>\n",
       "      <td>...</td>\n",
       "      <td>...</td>\n",
       "      <td>...</td>\n",
       "      <td>...</td>\n",
       "      <td>...</td>\n",
       "      <td>...</td>\n",
       "      <td>...</td>\n",
       "    </tr>\n",
       "    <tr>\n",
       "      <th>4893</th>\n",
       "      <td>6.2</td>\n",
       "      <td>0.21</td>\n",
       "      <td>0.29</td>\n",
       "      <td>1.6</td>\n",
       "      <td>0.039</td>\n",
       "      <td>24</td>\n",
       "      <td>92</td>\n",
       "      <td>0.99114</td>\n",
       "      <td>3.27</td>\n",
       "      <td>0.5</td>\n",
       "      <td>11.2</td>\n",
       "      <td>6</td>\n",
       "      <td>0</td>\n",
       "    </tr>\n",
       "    <tr>\n",
       "      <th>4894</th>\n",
       "      <td>6.6</td>\n",
       "      <td>0.32</td>\n",
       "      <td>0.36</td>\n",
       "      <td>8</td>\n",
       "      <td>0.047</td>\n",
       "      <td>57</td>\n",
       "      <td>168</td>\n",
       "      <td>0.9949</td>\n",
       "      <td>3.15</td>\n",
       "      <td>0.46</td>\n",
       "      <td>9.6</td>\n",
       "      <td>5</td>\n",
       "      <td>0</td>\n",
       "    </tr>\n",
       "    <tr>\n",
       "      <th>4895</th>\n",
       "      <td>6.5</td>\n",
       "      <td>0.24</td>\n",
       "      <td>0.19</td>\n",
       "      <td>1.2</td>\n",
       "      <td>0.041</td>\n",
       "      <td>30</td>\n",
       "      <td>111</td>\n",
       "      <td>0.99254</td>\n",
       "      <td>2.99</td>\n",
       "      <td>0.46</td>\n",
       "      <td>9.4</td>\n",
       "      <td>6</td>\n",
       "      <td>0</td>\n",
       "    </tr>\n",
       "    <tr>\n",
       "      <th>4896</th>\n",
       "      <td>5.5</td>\n",
       "      <td>0.29</td>\n",
       "      <td>0.3</td>\n",
       "      <td>1.1</td>\n",
       "      <td>0.022</td>\n",
       "      <td>20</td>\n",
       "      <td>110</td>\n",
       "      <td>0.98869</td>\n",
       "      <td>3.34</td>\n",
       "      <td>0.38</td>\n",
       "      <td>12.8</td>\n",
       "      <td>7</td>\n",
       "      <td>0</td>\n",
       "    </tr>\n",
       "    <tr>\n",
       "      <th>4897</th>\n",
       "      <td>6</td>\n",
       "      <td>0.21</td>\n",
       "      <td>0.38</td>\n",
       "      <td>0.8</td>\n",
       "      <td>0.02</td>\n",
       "      <td>22</td>\n",
       "      <td>98</td>\n",
       "      <td>0.98941</td>\n",
       "      <td>3.26</td>\n",
       "      <td>0.32</td>\n",
       "      <td>11.8</td>\n",
       "      <td>6</td>\n",
       "      <td>0</td>\n",
       "    </tr>\n",
       "  </tbody>\n",
       "</table>\n",
       "<p>6497 rows × 13 columns</p>\n",
       "</div>"
      ],
      "text/plain": [
       "     fixed_acidity volatile_acidity citric_acid  ... alcohol quality is_red\n",
       "0              7.4              0.7           0  ...     9.4       5      1\n",
       "1              7.8             0.88           0  ...     9.8       5      1\n",
       "2              7.8             0.76        0.04  ...     9.8       5      1\n",
       "3             11.2             0.28        0.56  ...     9.8       6      1\n",
       "4              7.4              0.7           0  ...     9.4       5      1\n",
       "...            ...              ...         ...  ...     ...     ...    ...\n",
       "4893           6.2             0.21        0.29  ...    11.2       6      0\n",
       "4894           6.6             0.32        0.36  ...     9.6       5      0\n",
       "4895           6.5             0.24        0.19  ...     9.4       6      0\n",
       "4896           5.5             0.29         0.3  ...    12.8       7      0\n",
       "4897             6             0.21        0.38  ...    11.8       6      0\n",
       "\n",
       "[6497 rows x 13 columns]"
      ]
     },
     "execution_count": 16,
     "metadata": {},
     "output_type": "execute_result"
    }
   ],
   "source": [
    "data_features_new_columns"
   ]
  },
  {
   "cell_type": "code",
   "execution_count": 0,
   "metadata": {
    "application/vnd.databricks.v1+cell": {
     "cellMetadata": {
      "byteLimit": 2048000,
      "rowLimit": 10000
     },
     "inputWidgets": {},
     "nuid": "8e3d2561-9315-46b8-84d8-9e438a7d030f",
     "showTitle": false,
     "tableResultSettingsMap": {},
     "title": ""
    }
   },
   "outputs": [
    {
     "output_type": "stream",
     "name": "stderr",
     "output_type": "stream",
     "text": [
      "/databricks/python/lib/python3.11/site-packages/seaborn/axisgrid.py:118: UserWarning: The figure layout has changed to tight\n  self._figure.tight_layout(*args, **kwargs)\n"
     ]
    },
    {
     "output_type": "execute_result",
     "data": {
      "text/plain": [
       "<seaborn.axisgrid.FacetGrid at 0x7f84be4ef190>"
      ]
     },
     "execution_count": 17,
     "metadata": {},
     "output_type": "execute_result"
    },
    {
     "output_type": "display_data",
     "data": {
      "image/png": "[encoded data removed]",
      "text/plain": [
       "<Figure size 500x500 with 1 Axes>"
      ]
     },
     "metadata": {},
     "output_type": "display_data"
    }
   ],
   "source": [
    "import seaborn as sns\n",
    "data = data_features_new_columns.copy()\n",
    "sns.displot(data['quality'], kde=False)"
   ]
  },
  {
   "cell_type": "code",
   "execution_count": 0,
   "metadata": {
    "application/vnd.databricks.v1+cell": {
     "cellMetadata": {
      "byteLimit": 2048000,
      "rowLimit": 10000
     },
     "inputWidgets": {},
     "nuid": "8d8b7107-e900-46c1-bc18-063c6e16f4f9",
     "showTitle": false,
     "tableResultSettingsMap": {},
     "title": ""
    }
   },
   "outputs": [],
   "source": [
    "high_quality = (pd.to_numeric(data.quality, errors='coerce') >= 7).astype(int)\n",
    "data.quality = high_quality\n",
    "     "
   ]
  },
  {
   "cell_type": "code",
   "execution_count": 0,
   "metadata": {
    "application/vnd.databricks.v1+cell": {
     "cellMetadata": {
      "byteLimit": 2048000,
      "rowLimit": 10000
     },
     "inputWidgets": {},
     "nuid": "c0bf4de3-3355-47b3-b9d3-9ef85d47de9f",
     "showTitle": false,
     "tableResultSettingsMap": {},
     "title": ""
    }
   },
   "outputs": [],
   "source": [
    "from sklearn.model_selection import train_test_split\n",
    "\n",
    "data = data.astype(float)\n",
    "\n",
    "X = data.drop([\"quality\"], axis=1)\n",
    "y = data.quality\n",
    "\n",
    "# Split out the training data\n",
    "X_train, X_rem, y_train, y_rem = train_test_split(X, y, train_size=0.6, random_state=123)\n",
    "\n",
    "# Split the remaining data equally into validation and test\n",
    "X_val, X_test, y_val, y_test = train_test_split(X_rem, y_rem, test_size=0.5, random_state=123)"
   ]
  },
  {
   "cell_type": "code",
   "execution_count": 0,
   "metadata": {
    "application/vnd.databricks.v1+cell": {
     "cellMetadata": {
      "byteLimit": 2048000,
      "rowLimit": 10000
     },
     "inputWidgets": {},
     "nuid": "6f89555c-e3fc-4260-9bb9-0d7b6f239989",
     "showTitle": false,
     "tableResultSettingsMap": {},
     "title": ""
    }
   },
   "outputs": [
    {
     "output_type": "stream",
     "name": "stderr",
     "output_type": "stream",
     "text": [
      "/local_disk0/.ephemeral_nfs/envs/pythonEnv-92050934-baa6-4c29-a7c1-cd1aecfb2695/lib/python3.11/site-packages/mlflow/pyfunc/utils/data_validation.py:186: UserWarning: \u001B[33mAdd type hints to the `predict` method to enable data validation and automatic signature inference during model logging. Check https://mlflow.org/docs/latest/model/python_model.html#type-hint-usage-in-pythonmodel for more details.\u001B[0m\n  color_warning(\n/local_disk0/.ephemeral_nfs/envs/pythonEnv-92050934-baa6-4c29-a7c1-cd1aecfb2695/lib/python3.11/site-packages/mlflow/pyfunc/__init__.py:3242: UserWarning: \u001B[1;33mAn input example was not provided when logging the model. To ensure the model signature functions correctly, specify the `input_example` parameter. See https://mlflow.org/docs/latest/model/signatures.html#model-input-example for more details about the benefits of using input_example.\u001B[0m\n  color_warning(\n"
     ]
    },
    {
     "output_type": "display_data",
     "data": {
      "application/vnd.jupyter.widget-view+json": {
       "model_id": "1251b862344943c6878435033f38f061",
       "version_major": 2,
       "version_minor": 0
      },
      "text/plain": [
       "Uploading artifacts:   0%|          | 0/9 [00:00<?, ?it/s]"
      ]
     },
     "metadata": {},
     "output_type": "display_data"
    }
   ],
   "source": [
    "import mlflow\n",
    "import mlflow.pyfunc\n",
    "import mlflow.sklearn\n",
    "import numpy as np\n",
    "import sklearn\n",
    "from sklearn.ensemble import RandomForestClassifier\n",
    "from sklearn.metrics import roc_auc_score\n",
    "from mlflow.models.signature import infer_signature\n",
    "from mlflow.utils.environment import _mlflow_conda_env\n",
    "import cloudpickle\n",
    "import time\n",
    "\n",
    "# The predict method of sklearn's RandomForestClassifier returns a binary classification (0 or 1). \n",
    "# The following code creates a wrapper function, SklearnModelWrapper, that uses \n",
    "# the predict_proba method to return the probability that the observation belongs to each class. \n",
    "\n",
    "class SklearnModelWrapper(mlflow.pyfunc.PythonModel):\n",
    "  def __init__(self, model):\n",
    "    self.model = model\n",
    "    \n",
    "  def predict(self, context, model_input):\n",
    "    return self.model.predict_proba(model_input)[:,1]\n",
    "\n",
    "# mlflow.start_run creates a new MLflow run to track the performance of this model. \n",
    "# Within the context, you call mlflow.log_param to keep track of the parameters used, and\n",
    "# mlflow.log_metric to record metrics like accuracy.\n",
    "with mlflow.start_run(run_name='untuned_random_forest'):\n",
    "  n_estimators = 10\n",
    "  model = RandomForestClassifier(n_estimators=n_estimators, random_state=np.random.RandomState(123))\n",
    "  model.fit(X_train, y_train)\n",
    "\n",
    "  # predict_proba returns [prob_negative, prob_positive], so slice the output with [:, 1]\n",
    "  predictions_test = model.predict_proba(X_test)[:,1]\n",
    "  auc_score = roc_auc_score(y_test, predictions_test)\n",
    "  mlflow.log_param('n_estimators', n_estimators)\n",
    "  # Use the area under the ROC curve as a metric.\n",
    "  mlflow.log_metric('auc', auc_score)\n",
    "  wrappedModel = SklearnModelWrapper(model)\n",
    "  # Log the model with a signature that defines the schema of the model's inputs and outputs. \n",
    "  # When the model is deployed, this signature will be used to validate inputs.\n",
    "  signature = infer_signature(X_train, wrappedModel.predict(None, X_train))\n",
    "  \n",
    "  # MLflow contains utilities to create a conda environment used to serve models.\n",
    "  # The necessary dependencies are added to a conda.yaml file which is logged along with the model.\n",
    "  conda_env =  _mlflow_conda_env(\n",
    "        additional_conda_deps=None,\n",
    "        additional_pip_deps=[\"cloudpickle=={}\".format(cloudpickle.__version__), \"scikit-learn=={}\".format(sklearn.__version__)],\n",
    "        additional_conda_channels=None,\n",
    "    )\n",
    "  mlflow.pyfunc.log_model(\"random_forest_model\", python_model=wrappedModel, conda_env=conda_env, signature=signature)"
   ]
  },
  {
   "cell_type": "code",
   "execution_count": 0,
   "metadata": {
    "application/vnd.databricks.v1+cell": {
     "cellMetadata": {
      "byteLimit": 2048000,
      "rowLimit": 10000
     },
     "inputWidgets": {},
     "nuid": "e50805b4-afb2-4135-9c9b-57bb2a09ee48",
     "showTitle": false,
     "tableResultSettingsMap": {},
     "title": ""
    }
   },
   "outputs": [
    {
     "output_type": "stream",
     "name": "stdout",
     "output_type": "stream",
     "text": [
      "                      importance\nalcohol                 0.160192\ndensity                 0.117415\nvolatile_acidity        0.093136\nchlorides               0.086618\nresidual_sugar          0.082544\nfree_sulfur_dioxide     0.080473\npH                      0.080212\ntotal_sulfur_dioxide    0.077798\nsulphates               0.075780\ncitric_acid             0.071857\nfixed_acidity           0.071841\nis_red                  0.002134\nimportance    1.0\ndtype: float64\n"
     ]
    }
   ],
   "source": [
    "feature_importances = pd.DataFrame(model.feature_importances_, index=X_train.columns.tolist(), columns=['importance'])\n",
    "print(feature_importances.sort_values('importance', ascending=False))\n",
    "print(feature_importances.sum())"
   ]
  },
  {
   "cell_type": "code",
   "execution_count": 0,
   "metadata": {
    "application/vnd.databricks.v1+cell": {
     "cellMetadata": {
      "byteLimit": 2048000,
      "rowLimit": 10000
     },
     "inputWidgets": {},
     "nuid": "a6b52c15-228e-4016-b00f-58e2dab86369",
     "showTitle": false,
     "tableResultSettingsMap": {},
     "title": ""
    }
   },
   "outputs": [],
   "source": [
    "run_id = mlflow.search_runs(filter_string='tags.mlflow.runName = \"untuned_random_forest\"').iloc[0].run_id\n"
   ]
  },
  {
   "cell_type": "code",
   "execution_count": 0,
   "metadata": {
    "application/vnd.databricks.v1+cell": {
     "cellMetadata": {
      "byteLimit": 2048000,
      "rowLimit": 10000
     },
     "inputWidgets": {},
     "nuid": "b4588ad8-ae80-4980-b6ae-17fa6c65a236",
     "showTitle": false,
     "tableResultSettingsMap": {},
     "title": ""
    }
   },
   "outputs": [
    {
     "output_type": "stream",
     "name": "stderr",
     "output_type": "stream",
     "text": [
      "Registered model 'wine_quality' already exists. Creating a new version of this model...\n"
     ]
    },
    {
     "output_type": "display_data",
     "data": {
      "application/vnd.jupyter.widget-view+json": {
       "model_id": "4eed08dd31924db9ac064139f13ef344",
       "version_major": 2,
       "version_minor": 0
      },
      "text/plain": [
       "Downloading artifacts:   0%|          | 0/9 [00:00<?, ?it/s]"
      ]
     },
     "metadata": {},
     "output_type": "display_data"
    },
    {
     "output_type": "display_data",
     "data": {
      "application/vnd.jupyter.widget-view+json": {
       "model_id": "f63d04a1e28846769c7aac9df2db4a5f",
       "version_major": 2,
       "version_minor": 0
      },
      "text/plain": [
       "Uploading artifacts:   0%|          | 0/9 [00:00<?, ?it/s]"
      ]
     },
     "metadata": {},
     "output_type": "display_data"
    },
    {
     "output_type": "stream",
     "name": "stderr",
     "output_type": "stream",
     "text": [
      "Created version '7' of model 'workspace.default.wine_quality'.\n"
     ]
    }
   ],
   "source": [
    "# If you see the error \"PERMISSION_DENIED: User does not have any permission level assigned to the registered model\", \n",
    "# the cause may be that a model already exists with the name \"wine_quality\". Try using a different name.\n",
    "model_name = \"wine_quality\"\n",
    "model_version = mlflow.register_model(f\"runs:/{run_id}/random_forest_model\", model_name)\n",
    "\n",
    "# Registering the model takes a few seconds, so add a small delay\n",
    "time.sleep(15)"
   ]
  },
  {
   "cell_type": "code",
   "execution_count": 0,
   "metadata": {
    "application/vnd.databricks.v1+cell": {
     "cellMetadata": {
      "byteLimit": 2048000,
      "rowLimit": 10000
     },
     "inputWidgets": {},
     "nuid": "a92232bc-c22d-4e16-b8b1-e159978569c8",
     "showTitle": false,
     "tableResultSettingsMap": {},
     "title": ""
    }
   },
   "outputs": [],
   "source": [
    "from mlflow.tracking import MlflowClient\n",
    "\n",
    "client = MlflowClient()\n",
    "client.set_registered_model_alias(\n",
    "  name=model_name,\n",
    "  alias=\"Production\",\n",
    "  version=model_version.version\n",
    ")"
   ]
  },
  {
   "cell_type": "code",
   "execution_count": 0,
   "metadata": {
    "application/vnd.databricks.v1+cell": {
     "cellMetadata": {
      "byteLimit": 2048000,
      "rowLimit": 10000
     },
     "inputWidgets": {},
     "nuid": "e4b99110-0a9a-47b5-a1ce-5da5f507a7c2",
     "showTitle": false,
     "tableResultSettingsMap": {},
     "title": ""
    }
   },
   "outputs": [
    {
     "output_type": "display_data",
     "data": {
      "application/vnd.jupyter.widget-view+json": {
       "model_id": "2b1ae3b0f9ee4743a027962da747ab95",
       "version_major": 2,
       "version_minor": 0
      },
      "text/plain": [
       "Downloading artifacts:   0%|          | 0/9 [00:00<?, ?it/s]"
      ]
     },
     "metadata": {},
     "output_type": "display_data"
    },
    {
     "output_type": "stream",
     "name": "stdout",
     "output_type": "stream",
     "text": [
      "AUC: 0.8540300975814177\n"
     ]
    }
   ],
   "source": [
    "\n",
    "model = mlflow.pyfunc.load_model(f\"models:/{model_name}@production\")\n",
    "\n",
    "# Sanity-check: This should match the AUC logged by MLflow\n",
    "print(f'AUC: {roc_auc_score(y_test, model.predict(X_test))}')"
   ]
  },
  {
   "cell_type": "code",
   "execution_count": 0,
   "metadata": {
    "application/vnd.databricks.v1+cell": {
     "cellMetadata": {
      "byteLimit": 2048000,
      "rowLimit": 10000
     },
     "inputWidgets": {},
     "nuid": "65198774-cae2-493b-a975-1c4ae6733ba2",
     "showTitle": false,
     "tableResultSettingsMap": {},
     "title": ""
    }
   },
   "outputs": [
    {
     "output_type": "stream",
     "name": "stdout",
     "output_type": "stream",
     "text": [
      "\r  0%|          | 0/2 [00:00<?, ?trial/s, best loss=?]"
     ]
    },
    {
     "output_type": "stream",
     "name": "stderr",
     "output_type": "stream",
     "text": [
      "2025/06/20 15:26:24 WARNING mlflow.utils.autologging_utils: MLflow xgboost autologging is known to be compatible with 1.4.2 <= xgboost <= 3.0.0, but the installed version is 3.0.2. If you encounter errors during autologging, try upgrading / downgrading xgboost to a compatible version, or try upgrading MLflow.\n\n"
     ]
    },
    {
     "output_type": "stream",
     "name": "stdout",
     "output_type": "stream",
     "text": [
      "\r                                                     \r[0]\tvalidation-logloss:0.47669\n\r  0%|          | 0/2 [00:02<?, ?trial/s, best loss=?]\r                                                     \r[1]\tvalidation-logloss:0.46761\n\r  0%|          | 0/2 [00:02<?, ?trial/s, best loss=?]\r                                                     \r[2]\tvalidation-logloss:0.45937\n\r  0%|          | 0/2 [00:02<?, ?trial/s, best loss=?]\r                                                     \r[3]\tvalidation-logloss:0.45197\n\r  0%|          | 0/2 [00:02<?, ?trial/s, best loss=?]\r                                                     \r[4]\tvalidation-logloss:0.44525\n\r  0%|          | 0/2 [00:02<?, ?trial/s, best loss=?]\r                                                     \r[5]\tvalidation-logloss:0.43967\n\r  0%|          | 0/2 [00:02<?, ?trial/s, best loss=?]\r                                                     \r[6]\tvalidation-logloss:0.43447\n\r  0%|          | 0/2 [00:02<?, ?trial/s, best loss=?]\r                                                     \r[7]\tvalidation-logloss:0.42935\n\r  0%|          | 0/2 [00:02<?, ?trial/s, best loss=?]\r                                                     \r[8]\tvalidation-logloss:0.42422\n\r  0%|          | 0/2 [00:02<?, ?trial/s, best loss=?]\r                                                     \r[9]\tvalidation-logloss:0.41946\n\r  0%|          | 0/2 [00:02<?, ?trial/s, best loss=?]"
     ]
    },
    {
     "output_type": "stream",
     "name": "stderr",
     "output_type": "stream",
     "text": [
      "2025/06/20 15:26:28 WARNING mlflow.utils.autologging_utils: MLflow autologging encountered a warning: \"/local_disk0/.ephemeral_nfs/envs/pythonEnv-92050934-baa6-4c29-a7c1-cd1aecfb2695/lib/python3.11/site-packages/mlflow/xgboost/__init__.py:168: UserWarning: [15:26:28] WARNING: /workspace/src/c_api/c_api.cc:1427: Saving model in the UBJSON format as default.  You can use file extension: `json`, `ubj` or `deprecated` to choose between formats.\"\n\n"
     ]
    },
    {
     "output_type": "display_data",
     "data": {
      "application/vnd.jupyter.widget-view+json": {
       "model_id": "6df2f5969c584c36baac9c534ab50349",
       "version_major": 2,
       "version_minor": 0
      },
      "text/plain": [
       "Uploading artifacts:   0%|          | 0/9 [00:00<?, ?it/s]"
      ]
     },
     "metadata": {},
     "output_type": "display_data"
    },
    {
     "output_type": "stream",
     "name": "stderr",
     "output_type": "stream",
     "text": [
      "/local_disk0/.ephemeral_nfs/envs/pythonEnv-92050934-baa6-4c29-a7c1-cd1aecfb2695/lib/python3.11/site-packages/mlflow/xgboost/__init__.py:168: UserWarning: [15:26:33] WARNING: /workspace/src/c_api/c_api.cc:1427: Saving model in the UBJSON format as default.  You can use file extension: `json`, `ubj` or `deprecated` to choose between formats.\n  xgb_model.save_model(model_data_path)\n\n"
     ]
    },
    {
     "output_type": "display_data",
     "data": {
      "application/vnd.jupyter.widget-view+json": {
       "model_id": "34120fa1d79343b2addb5870d69bc5c1",
       "version_major": 2,
       "version_minor": 0
      },
      "text/plain": [
       "Uploading artifacts:   0%|          | 0/9 [00:00<?, ?it/s]"
      ]
     },
     "metadata": {},
     "output_type": "display_data"
    },
    {
     "output_type": "stream",
     "name": "stdout",
     "output_type": "stream",
     "text": [
      "\r 50%|█████     | 1/2 [00:13<00:13, 13.80s/trial, best loss: -0.8271501362355875]"
     ]
    },
    {
     "output_type": "stream",
     "name": "stderr",
     "output_type": "stream",
     "text": [
      "2025/06/20 15:26:38 WARNING mlflow.utils.autologging_utils: MLflow xgboost autologging is known to be compatible with 1.4.2 <= xgboost <= 3.0.0, but the installed version is 3.0.2. If you encounter errors during autologging, try upgrading / downgrading xgboost to a compatible version, or try upgrading MLflow.\n\n"
     ]
    },
    {
     "output_type": "stream",
     "name": "stdout",
     "output_type": "stream",
     "text": [
      "\r                                                                                \r[0]\tvalidation-logloss:0.48230\n\r 50%|█████     | 1/2 [00:15<00:13, 13.80s/trial, best loss: -0.8271501362355875]\r                                                                                \r[1]\tvalidation-logloss:0.47799\n\r 50%|█████     | 1/2 [00:15<00:13, 13.80s/trial, best loss: -0.8271501362355875]\r                                                                                \r[2]\tvalidation-logloss:0.47402\n\r 50%|█████     | 1/2 [00:15<00:13, 13.80s/trial, best loss: -0.8271501362355875]\r                                                                                \r[3]\tvalidation-logloss:0.47031\n\r 50%|█████     | 1/2 [00:15<00:13, 13.80s/trial, best loss: -0.8271501362355875]\r                                                                                \r[4]\tvalidation-logloss:0.46676\n\r 50%|█████     | 1/2 [00:15<00:13, 13.80s/trial, best loss: -0.8271501362355875]\r                                                                                \r[5]\tvalidation-logloss:0.46345\n\r 50%|█████     | 1/2 [00:15<00:13, 13.80s/trial, best loss: -0.8271501362355875]\r                                                                                \r[6]\tvalidation-logloss:0.46020\n\r 50%|█████     | 1/2 [00:15<00:13, 13.80s/trial, best loss: -0.8271501362355875]\r                                                                                \r[7]\tvalidation-logloss:0.45711\n\r 50%|█████     | 1/2 [00:15<00:13, 13.80s/trial, best loss: -0.8271501362355875]\r                                                                                \r[8]\tvalidation-logloss:0.45390\n\r 50%|█████     | 1/2 [00:15<00:13, 13.80s/trial, best loss: -0.8271501362355875]\r                                                                                \r[9]\tvalidation-logloss:0.45089\n\r 50%|█████     | 1/2 [00:15<00:13, 13.80s/trial, best loss: -0.8271501362355875]"
     ]
    },
    {
     "output_type": "stream",
     "name": "stderr",
     "output_type": "stream",
     "text": [
      "2025/06/20 15:26:40 WARNING mlflow.utils.autologging_utils: MLflow autologging encountered a warning: \"/local_disk0/.ephemeral_nfs/envs/pythonEnv-92050934-baa6-4c29-a7c1-cd1aecfb2695/lib/python3.11/site-packages/mlflow/xgboost/__init__.py:168: UserWarning: [15:26:40] WARNING: /workspace/src/c_api/c_api.cc:1427: Saving model in the UBJSON format as default.  You can use file extension: `json`, `ubj` or `deprecated` to choose between formats.\"\n\n"
     ]
    },
    {
     "output_type": "display_data",
     "data": {
      "application/vnd.jupyter.widget-view+json": {
       "model_id": "0d140da70b6f4281b9ffaf579ae22d50",
       "version_major": 2,
       "version_minor": 0
      },
      "text/plain": [
       "Uploading artifacts:   0%|          | 0/9 [00:00<?, ?it/s]"
      ]
     },
     "metadata": {},
     "output_type": "display_data"
    },
    {
     "output_type": "stream",
     "name": "stderr",
     "output_type": "stream",
     "text": [
      "/local_disk0/.ephemeral_nfs/envs/pythonEnv-92050934-baa6-4c29-a7c1-cd1aecfb2695/lib/python3.11/site-packages/mlflow/xgboost/__init__.py:168: UserWarning: [15:26:46] WARNING: /workspace/src/c_api/c_api.cc:1427: Saving model in the UBJSON format as default.  You can use file extension: `json`, `ubj` or `deprecated` to choose between formats.\n  xgb_model.save_model(model_data_path)\n\n"
     ]
    },
    {
     "output_type": "display_data",
     "data": {
      "application/vnd.jupyter.widget-view+json": {
       "model_id": "f55cd3010e9d46e69dae6b4204bdfe5d",
       "version_major": 2,
       "version_minor": 0
      },
      "text/plain": [
       "Uploading artifacts:   0%|          | 0/9 [00:00<?, ?it/s]"
      ]
     },
     "metadata": {},
     "output_type": "display_data"
    },
    {
     "output_type": "stream",
     "name": "stdout",
     "output_type": "stream",
     "text": [
      "\r100%|██████████| 2/2 [00:25<00:00, 12.71s/trial, best loss: -0.827717784516864] \r100%|██████████| 2/2 [00:25<00:00, 12.88s/trial, best loss: -0.827717784516864]\n"
     ]
    }
   ],
   "source": [
    "from hyperopt import fmin, tpe, hp, Trials, STATUS_OK\n",
    "from hyperopt.pyll import scope\n",
    "import mlflow.xgboost\n",
    "import xgboost as xgb\n",
    "\n",
    "search_space = {\n",
    "  'max_depth': scope.int(hp.quniform('max_depth', 4, 10, 1)),\n",
    "  'learning_rate': hp.uniform('learning_rate', 0.01, 0.1),\n",
    "  'objective': 'binary:logistic',\n",
    "  'seed': 123,\n",
    "}\n",
    "\n",
    "def train_model(params):\n",
    "  mlflow.xgboost.autolog()\n",
    "  with mlflow.start_run(nested=True):\n",
    "    train = xgb.DMatrix(data=X_train, label=y_train, enable_categorical=True)\n",
    "    validation = xgb.DMatrix(data=X_val, label=y_val)\n",
    "    booster = xgb.train(params=params, dtrain=train, num_boost_round=10, evals=[(validation, \"validation\")], early_stopping_rounds=5)\n",
    "    validation_predictions = booster.predict(validation)\n",
    "    auc_score = roc_auc_score(y_val, validation_predictions)\n",
    "    mlflow.log_metric('auc', auc_score)\n",
    "    signature = infer_signature(X_train, booster.predict(train))\n",
    "    mlflow.xgboost.log_model(booster, \"model\", signature=signature)\n",
    "    return {'status': STATUS_OK, 'loss': -1*auc_score, 'booster': booster.attributes()}\n",
    "\n",
    "spark_trials = Trials()\n",
    "\n",
    "with mlflow.start_run(run_name='xgboost_models'):\n",
    "  best_params = fmin(\n",
    "    fn=train_model, \n",
    "    space=search_space, \n",
    "    algo=tpe.suggest, \n",
    "    max_evals=2,\n",
    "    trials=spark_trials,\n",
    "  )\n",
    "     "
   ]
  },
  {
   "cell_type": "markdown",
   "metadata": {
    "application/vnd.databricks.v1+cell": {
     "cellMetadata": {
      "byteLimit": 2048000,
      "rowLimit": 10000
     },
     "inputWidgets": {},
     "nuid": "706bd00b-8be5-4b3a-9c3c-0ad9b490f1aa",
     "showTitle": false,
     "tableResultSettingsMap": {},
     "title": ""
    }
   },
   "source": [
    "\n",
    "<br>\n",
    "<br>\n",
    "<br>\n",
    "\n",
    "\n",
    "## Analysis\n",
    "### Technical Understanding:\n",
    "\n",
    "\n",
    "###1. \n",
    "\n",
    "<i><b>What were the two different types of machine learning algorithms used in this notebook? Which one performed better at predicting wine quality?</b></i>\n",
    "\n",
    "pyfunc : untuned random forest with an accuracy under the ROC curve (AUC) of 0.854\n",
    "\n",
    "xgboost : model with an accuracy under the ROC curve (AUC) of 0.854\n",
    "<br>\n",
    "<br>\n"
   ]
  },
  {
   "cell_type": "markdown",
   "metadata": {
    "application/vnd.databricks.v1+cell": {
     "cellMetadata": {
      "byteLimit": 2048000,
      "rowLimit": 10000
     },
     "inputWidgets": {},
     "nuid": "dfebe585-2ae2-4d73-9b83-4033c2cdc8dd",
     "showTitle": false,
     "tableResultSettingsMap": {},
     "title": ""
    }
   },
   "source": [
    "###2.\n",
    "\n",
    "<i><b>The dataset was split into three parts for training, validation, and testing. What percentage of data went to each part? Why do we need to test our model on data it has never seen before?</b></i>\n",
    "\n",
    "The data is split, first into a 60/40 split training/test, and then into a 50/50 test/validation set.\n",
    "\n",
    "Training : 60%\n",
    "\n",
    "Test : 20%\n",
    "\n",
    "Validation : 20%\n",
    "<br>\n",
    "<br>"
   ]
  },
  {
   "cell_type": "markdown",
   "metadata": {
    "application/vnd.databricks.v1+cell": {
     "cellMetadata": {
      "byteLimit": 2048000,
      "rowLimit": 10000
     },
     "inputWidgets": {},
     "nuid": "800b415b-c4e6-45ef-9a0c-18c4c64bda04",
     "showTitle": false,
     "tableResultSettingsMap": {},
     "title": ""
    }
   },
   "source": [
    "###3.\n",
    "\n",
    "<i><b>Look at the feature importance table. What are the two most important features for predicting wine quality? What is the least important feature? Does this make intuitive sense to you?</b></i>"
   ]
  },
  {
   "cell_type": "code",
   "execution_count": 0,
   "metadata": {
    "application/vnd.databricks.v1+cell": {
     "cellMetadata": {
      "byteLimit": 2048000,
      "rowLimit": 10000
     },
     "inputWidgets": {},
     "nuid": "0276ce47-1e60-4e25-a159-2bdf80a955c5",
     "showTitle": false,
     "tableResultSettingsMap": {},
     "title": ""
    }
   },
   "outputs": [
    {
     "output_type": "stream",
     "name": "stdout",
     "output_type": "stream",
     "text": [
      "                      importance\nalcohol                 0.160192\ndensity                 0.117415\nvolatile_acidity        0.093136\nchlorides               0.086618\nresidual_sugar          0.082544\nfree_sulfur_dioxide     0.080473\npH                      0.080212\ntotal_sulfur_dioxide    0.077798\nsulphates               0.075780\ncitric_acid             0.071857\nfixed_acidity           0.071841\nis_red                  0.002134\nimportance    1.0\ndtype: float64\n"
     ]
    }
   ],
   "source": [
    "print(feature_importances.sort_values('importance', ascending=False))\n",
    "print(feature_importances.sum())"
   ]
  },
  {
   "cell_type": "markdown",
   "metadata": {
    "application/vnd.databricks.v1+cell": {
     "cellMetadata": {
      "byteLimit": 2048000,
      "rowLimit": 10000
     },
     "inputWidgets": {},
     "nuid": "e6c0bbf8-3b65-4e9b-b8d1-44014e95e6c8",
     "showTitle": false,
     "tableResultSettingsMap": {},
     "title": ""
    }
   },
   "source": [
    "The two most important features are alcohol and density. The least important feature is whether or not it is red.\n",
    "\n",
    "Intuitive sense? Maybe it makes intuitive sense. Density could potentially be a defining characteristic of quality, given mouthfeel.\n",
    "\n",
    "Feature importance is calculated by the percentage of branches of a decision tree traversed by any one of the features. The feature importance doesn't make immediate intuitive sense. Maybe the density feature is the most likely to be important, given the effect of mouthfeel on taste. A curious finding: sulphates was shown to be the top feature in (Cortez et. al 2009), contrasted to the top two features predicted in the random_forest_model being alcohol and density."
   ]
  },
  {
   "cell_type": "code",
   "execution_count": 0,
   "metadata": {
    "application/vnd.databricks.v1+cell": {
     "cellMetadata": {
      "byteLimit": 2048000,
      "rowLimit": 10000
     },
     "inputWidgets": {},
     "nuid": "679edb36-a0db-47dc-94d0-a3534a2757bf",
     "showTitle": false,
     "tableResultSettingsMap": {},
     "title": ""
    }
   },
   "outputs": [
    {
     "output_type": "execute_result",
     "data": {
      "text/plain": [
       "<Axes: >"
      ]
     },
     "execution_count": 28,
     "metadata": {},
     "output_type": "execute_result"
    },
    {
     "output_type": "display_data",
     "data": {
      "image/png": "[encoded data removed]",
      "text/plain": [
       "<Figure size 640x480 with 2 Axes>"
      ]
     },
     "metadata": {},
     "output_type": "display_data"
    }
   ],
   "source": [
    "sns.heatmap(data.corr(), cmap=\"Blues\")"
   ]
  },
  {
   "cell_type": "code",
   "execution_count": 0,
   "metadata": {
    "application/vnd.databricks.v1+cell": {
     "cellMetadata": {
      "byteLimit": 2048000,
      "rowLimit": 10000
     },
     "inputWidgets": {},
     "nuid": "3476063e-2d4f-4629-b2d0-afa1bd272650",
     "showTitle": false,
     "tableResultSettingsMap": {},
     "title": ""
    }
   },
   "outputs": [
    {
     "output_type": "stream",
     "name": "stderr",
     "output_type": "stream",
     "text": [
      "/local_disk0/.ephemeral_nfs/envs/pythonEnv-92050934-baa6-4c29-a7c1-cd1aecfb2695/lib/python3.11/site-packages/mlflow/pyfunc/utils/data_validation.py:186: UserWarning: \u001B[33mAdd type hints to the `predict` method to enable data validation and automatic signature inference during model logging. Check https://mlflow.org/docs/latest/model/python_model.html#type-hint-usage-in-pythonmodel for more details.\u001B[0m\n  color_warning(\n/local_disk0/.ephemeral_nfs/envs/pythonEnv-92050934-baa6-4c29-a7c1-cd1aecfb2695/lib/python3.11/site-packages/mlflow/pyfunc/__init__.py:3242: UserWarning: \u001B[1;33mAn input example was not provided when logging the model. To ensure the model signature functions correctly, specify the `input_example` parameter. See https://mlflow.org/docs/latest/model/signatures.html#model-input-example for more details about the benefits of using input_example.\u001B[0m\n  color_warning(\n"
     ]
    },
    {
     "output_type": "display_data",
     "data": {
      "application/vnd.jupyter.widget-view+json": {
       "model_id": "e8b95c3cb15648b5ab263fe939d0dbce",
       "version_major": 2,
       "version_minor": 0
      },
      "text/plain": [
       "Uploading artifacts:   0%|          | 0/9 [00:00<?, ?it/s]"
      ]
     },
     "metadata": {},
     "output_type": "display_data"
    },
    {
     "output_type": "execute_result",
     "data": {
      "text/plain": [
       "alcohol                -0.416504\n",
       "total_sulfur_dioxide   -0.110571\n",
       "free_sulfur_dioxide     0.481284\n",
       "quality                 0.680737\n",
       "pH                      0.754402\n",
       "residual_sugar          0.930913\n",
       "citric_acid             1.135369\n",
       "volatile_acidity        1.477522\n",
       "fixed_acidity           1.965486\n",
       "chlorides               2.007598\n",
       "is_red                  2.030779\n",
       "sulphates               2.296992\n",
       "density                 2.499226\n",
       "dtype: float64"
      ]
     },
     "execution_count": 29,
     "metadata": {},
     "output_type": "execute_result"
    }
   ],
   "source": [
    "import mlflow\n",
    "import mlflow.pyfunc\n",
    "import mlflow.sklearn\n",
    "import numpy as np\n",
    "import sklearn\n",
    "from sklearn.ensemble import RandomForestClassifier\n",
    "from sklearn.metrics import roc_auc_score\n",
    "from mlflow.models.signature import infer_signature\n",
    "from mlflow.utils.environment import _mlflow_conda_env\n",
    "import cloudpickle\n",
    "import time\n",
    "\n",
    "# The predict method of sklearn's RandomForestClassifier returns a binary classification (0 or 1). \n",
    "# The following code creates a wrapper function, SklearnModelWrapper, that uses \n",
    "# the predict_proba method to return the probability that the observation belongs to each class. \n",
    "\n",
    "class SklearnModelWrapper(mlflow.pyfunc.PythonModel):\n",
    "  def __init__(self, model):\n",
    "    self.model = model\n",
    "    \n",
    "  def predict(self, context, model_input):\n",
    "    return self.model.predict_proba(model_input)[:,1]\n",
    "\n",
    "# mlflow.start_run creates a new MLflow run to track the performance of this model. \n",
    "# Within the context, you call mlflow.log_param to keep track of the parameters used, and\n",
    "# mlflow.log_metric to record metrics like accuracy.\n",
    "with mlflow.start_run(run_name='untuned_random_forest'):\n",
    "  n_estimators = 10\n",
    "  model = RandomForestClassifier(n_estimators=n_estimators, random_state=np.random.RandomState(123))\n",
    "  model.fit(X_train, y_train)\n",
    "\n",
    "  # predict_proba returns [prob_negative, prob_positive], so slice the output with [:, 1]\n",
    "  predictions_test = model.predict_proba(X_test)[:,1]\n",
    "  auc_score = roc_auc_score(y_test, predictions_test)\n",
    "  mlflow.log_param('n_estimators', n_estimators)\n",
    "  # Use the area under the ROC curve as a metric.\n",
    "  mlflow.log_metric('auc', auc_score)\n",
    "  wrappedModel = SklearnModelWrapper(model)\n",
    "  # Log the model with a signature that defines the schema of the model's inputs and outputs. \n",
    "  # When the model is deployed, this signature will be used to validate inputs.\n",
    "  signature = infer_signature(X_train, wrappedModel.predict(None, X_train))\n",
    "  \n",
    "  # MLflow contains utilities to create a conda environment used to serve models.\n",
    "  # The necessary dependencies are added to a conda.yaml file which is logged along with the model.\n",
    "  conda_env =  _mlflow_conda_env(\n",
    "        additional_conda_deps=None,\n",
    "        additional_pip_deps=[\"cloudpickle=={}\".format(cloudpickle.__version__), \"scikit-learn=={}\".format(sklearn.__version__)],\n",
    "        additional_conda_channels=None,\n",
    "    )\n",
    "  mlflow.pyfunc.log_model(\"random_forest_model\", python_model=wrappedModel, conda_env=conda_env, signature=signature)\n",
    "\n",
    "data.corr().sum(axis=0).sort_values()"
   ]
  },
  {
   "cell_type": "markdown",
   "metadata": {
    "application/vnd.databricks.v1+cell": {
     "cellMetadata": {
      "byteLimit": 2048000,
      "rowLimit": 10000
     },
     "inputWidgets": {},
     "nuid": "e59689ce-a084-431b-8418-0021e9da3c74",
     "showTitle": false,
     "tableResultSettingsMap": {},
     "title": ""
    }
   },
   "source": [
    "\n",
    "A lengthwise sum of the correlation matrix shows alcohol and density being the most correlated features to other features, alcohol being negatively correlated and density being positively correlated. The sum of correlations displays a sense about the data that intuition doesn't alone. The data suggests that low alcohol content and a higher density are the most important features for a highly rated wine. The bitterness of alcohol in combination with its astringent affect is probably the most important factor; the taste of the grapes and process is less overpowered. With this information, it does make intuitive sense.\n",
    "\n",
    "Curiously, the feature importance calculated in the (Cortez et al., 2009) dataset differs from the feature importance calculated by the lab model. \n",
    "\n",
    "[1] The example uses a dataset from the UCI Machine Learning Repository, presented in Modeling wine preferences by data mining from physicochemical properties [Cortez et al., 2009].\n",
    "<br>\n",
    "<br>"
   ]
  },
  {
   "cell_type": "markdown",
   "metadata": {
    "application/vnd.databricks.v1+cell": {
     "cellMetadata": {
      "byteLimit": 2048000,
      "rowLimit": 10000
     },
     "inputWidgets": {},
     "nuid": "2f5d4fab-15cb-4e0d-a55f-780a76816517",
     "showTitle": false,
     "tableResultSettingsMap": {},
     "title": ""
    }
   },
   "source": [
    "###4.\n",
    "\n",
    "<i><b>The notebook converts wine quality from a 1-10 scale to a binary classification problem. What threshold was used and why might this simplification be useful?</b></i>\n",
    "\n",
    "A threshold of 7. was used to convert wine quality from a 1-10 scale to a binary classification problem. This simplification is useful in as a final step in the process of evaluation the quality of wine. First, the wine is rated on a continuous scale of 0-10 based on various physiochemical data statistics, allowing the evaluation of distinct accuracies, according to the degree of tolerance accepted. The median of these ratings is used as a final score.\n",
    "\n",
    "<br>\n",
    "<br>"
   ]
  },
  {
   "cell_type": "markdown",
   "metadata": {
    "application/vnd.databricks.v1+cell": {
     "cellMetadata": {
      "byteLimit": 2048000,
      "rowLimit": 10000
     },
     "inputWidgets": {},
     "nuid": "d83cbb52-d455-480f-9cc0-ecd1f8ac065a",
     "showTitle": false,
     "tableResultSettingsMap": {},
     "title": ""
    }
   },
   "source": [
    "###Career/Workplace Application:\n",
    "###5.\n",
    "\n",
    "<i><b>MLflow was used to track and compare different model experiments. In your future career field, why would it be important to keep track of different versions of your work and their performance?</b></i>\n",
    "\n",
    "Keeping track of different versions of your work and their performance, like with MLflow for model experiments, is crucial in any technical field—say, data science or software engineering—because it ensures you can reproduce results, debug issues, and make informed decisions. Versioning lets you pinpoint what changes led to improvements or failures, saving time and preventing costly mistakes. It’s like having a detailed map of your project’s evolution: you can backtrack, compare approaches, and build on what works best, all while maintaining a clear record for collaboration or audits. In fast-moving industries, this kind of systematic tracking is your safety net for delivering reliable, high-performing solutions.[2]\n",
    "\n",
    "\n",
    "Keeping track of different versions of your work and their performance is crucial in many career fields because it provides a clear record of progress and decision-making. For instance, in data science or machine learning, version control and performance tracking allow you to identify which approaches worked best and under what conditions, facilitating reproducibility and enabling informed adjustments.\n",
    "\n",
    "In any field, this practice ensures accountability, simplifies collaboration by providing a shared understanding of changes, and helps avoid redundant efforts by preserving a history of tested solutions. Moreover, being able to trace back to specific iterations can save time and resources when revisiting projects, troubleshooting issues, or presenting evidence-based results to stakeholders. Ultimately, it ensures efficiency, transparency, and continuous improvement in professional work.[3]\n",
    "\n",
    "[2] Text generated by Grok, response to “MLflow was used to track and compare[...],” June 11, 2025, xAi, https://www.grok.com\n",
    "\n",
    "[3] Text generated by ChatGPT, response to “MLflow was used to track and compare[...],” June 11, 2025, OpenAI, https://chatgpt.com\n",
    "<br>\n",
    "<br>"
   ]
  },
  {
   "cell_type": "markdown",
   "metadata": {
    "application/vnd.databricks.v1+cell": {
     "cellMetadata": {
      "byteLimit": 2048000,
      "rowLimit": 10000
     },
     "inputWidgets": {},
     "nuid": "5e85d7a6-608a-4767-b929-70f943a14483",
     "showTitle": false,
     "tableResultSettingsMap": {},
     "title": ""
    }
   },
   "source": [
    "###6.\n",
    "<i><b>The notebook shows promoting a model from development to \"production.\" Think about your intended career - describe a situation where you might need approval before implementing a new process or solution.</b></i>\n",
    "\n",
    "I'm in the middle of my career, so I'll use an example from my actual career. Similar to the assignment, I've been in situations where I need to obtain approval for process changes, such as updating an existing process. \n",
    "<br>\n",
    "<br>"
   ]
  },
  {
   "cell_type": "markdown",
   "metadata": {
    "application/vnd.databricks.v1+cell": {
     "cellMetadata": {
      "byteLimit": 2048000,
      "rowLimit": 10000
     },
     "inputWidgets": {},
     "nuid": "b878d8cd-381b-40d4-80c4-b366a7aa554c",
     "showTitle": false,
     "tableResultSettingsMap": {},
     "title": ""
    }
   },
   "source": [
    "###7.\n",
    "\n",
    "<i><b>This model predicts whether wine is \"high quality\" or not. Describe a similar yes/no prediction problem you might encounter in your future workplace and explain what data you might need to solve it.</b></i>\n",
    "\n",
    "I could imagine a scenario where I build automated tractor machinery. I might need a type of cat/not-cat classifier, in case a cat happens across an automated tractor. This classifier would ensure that such cat would be safe, the tractor, upon seeing cat in the cat/not-cat classifier, would either slow down, stop, or alter its path. The data I would need to solve it would be generated with a machine vision system.\n",
    "<br>\n",
    "<br>"
   ]
  },
  {
   "cell_type": "markdown",
   "metadata": {
    "application/vnd.databricks.v1+cell": {
     "cellMetadata": {
      "byteLimit": 2048000,
      "rowLimit": 10000
     },
     "inputWidgets": {},
     "nuid": "13546744-66b1-4a39-a0df-ba049dacc60d",
     "showTitle": false,
     "tableResultSettingsMap": {},
     "title": ""
    }
   },
   "source": [
    "###8.\n",
    "\n",
    "<i><b>The notebook uses Unity Catalog for data governance. Research this concept and explain why data governance becomes more important as you move from academic projects to enterprise environments.</b></i>\n",
    "\n",
    "\n",
    "Data governance, like with Unity Catalog, ensures data is secure, consistent, and accessible. In academic projects, datasets are small, and governance is minimal. In enterprises, governance is critical due to massive data, regulatory compliance (e.g., GDPR), and cross-team collaboration. Unity Catalog’s centralized access control, auditing, and lineage tracking prevent breaches, ensure trust, and streamline operations, addressing risks and complexity absent in academia.[4]\n",
    "\n",
    "Data governance becomes more important in enterprise environments because organizations handle larger volumes of sensitive and critical data. Unity Catalog ensures consistent data access policies, security, and compliance with regulations, which are essential for protecting organizational assets, maintaining trust, and avoiding legal or financial penalties. In academic projects, the stakes are often lower, but in enterprises, proper governance ensures that data is reliable, secure, and used responsibly across teams.[5]\n",
    "\n",
    "[4] Text generated by Grok, response to “[...]explain why data governance becomes more important as you move from academic projects to enterprise environments.,” June 11, 2025, xAi, https://www.grok.com\n",
    "\n",
    "[5] Text generated by ChatGPT, response to “[...]explain why data governance becomes more important as you move from academic projects to enterprise environments.,” June 11, 2025, OpenAI, https://chatgpt.com\n",
    "\n",
    "<br>\n",
    "<br>\n",
    "\n"
   ]
  },
  {
   "cell_type": "code",
   "execution_count": 0,
   "metadata": {
    "application/vnd.databricks.v1+cell": {
     "cellMetadata": {
      "byteLimit": 2048000,
      "rowLimit": 10000
     },
     "inputWidgets": {},
     "nuid": "c7a04900-0ee1-4a57-a6f1-7ee8fd7cfa2c",
     "showTitle": false,
     "tableResultSettingsMap": {},
     "title": ""
    }
   },
   "outputs": [],
   "source": []
  }
 ],
 "metadata": {
  "application/vnd.databricks.v1+notebook": {
   "computePreferences": null,
   "dashboards": [],
   "environmentMetadata": {
    "base_environment": "",
    "environment_version": "2"
   },
   "inputWidgetPreferences": null,
   "language": "python",
   "notebookMetadata": {
    "pythonIndentUnit": 4
   },
   "notebookName": "Wine Quality",
   "widgets": {}
  },
  "language_info": {
   "name": "python"
  }
 },
 "nbformat": 4,
 "nbformat_minor": 0
}